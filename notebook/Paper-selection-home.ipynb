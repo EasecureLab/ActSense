{
 "cells": [
  {
   "cell_type": "code",
   "execution_count": 1,
   "metadata": {
    "collapsed": true
   },
   "outputs": [],
   "source": [
    "import numpy as np\n",
    "import sys\n",
    "sys.path.append(\"../code/\")\n",
    "from structure import *\n",
    "from algo import *\n",
    "from basic import *\n",
    "from analysis import *\n",
    "import pandas as pd\n",
    "%matplotlib inline\n",
    "import matplotlib.pyplot as plt\n",
    "from autograd.numpy import linalg as LA\n",
    "import pickle\n",
    "import itertools\n",
    "from itertools import product\n",
    "import calendar\n",
    "from sklearn.metrics import mean_squared_error\n",
    "%load_ext autoreload\n",
    "%autoreload 2\n",
    "import warnings\n",
    "import seaborn as sns\n",
    "warnings.filterwarnings(\"ignore\")\n",
    "from sklearn.manifold import TSNE\n",
    "from sklearn.cluster import KMeans\n",
    "import numpy as np"
   ]
  },
  {
   "cell_type": "code",
   "execution_count": 2,
   "metadata": {
    "collapsed": true
   },
   "outputs": [],
   "source": [
    "year = 2015\n",
    "dataset = 'artificial'\n",
    "order = APP_NAME_OBSERVED"
   ]
  },
  {
   "cell_type": "code",
   "execution_count": 3,
   "metadata": {
    "collapsed": true
   },
   "outputs": [],
   "source": [
    "# load the selected pairs with the best parameter\n",
    "sp = {}\n",
    "param = np.load(\"../data/best-param-{}-active.npy\".format(year)).item()\n",
    "k, latent_dimension, lambda1, lambda2, lambda3, kernel, delta = param.split(\"-\")\n",
    "filename = \"sp-pre-none-prev_future_weighted-{}-{}-0.1-0.1-0.0-{}-{}-{}-{}-{}\".format(kernel, delta, lambda1, lambda2,\n",
    "                                                                                    lambda3, k, latent_dimension)\n",
    "directory = \"../data/result/reg/update_season/active/{}/{}/\".format(year, dataset)\n",
    "full_path = directory + filename\n",
    "sp['active'] = np.load(full_path)\n",
    "\n",
    "\n",
    "param = np.load(\"../data/best-param-{}-random.npy\".format(year)).item()\n",
    "k, latent_dimension, lambda1, lambda2, lambda3 = param.split(\"-\")\n",
    "filename = \"sp-pre-{}-{}-{}-{}-{}\".format(lambda1, lambda2, lambda3, k, latent_dimension)\n",
    "directory = \"../data/result/reg/update_season/random/{}/{}/\".format(year, dataset)\n",
    "full_path = directory + filename\n",
    "sp['random'] = np.load(full_path)\n",
    "\n",
    "\n",
    "param = np.load(\"../data/best-param-{}-qbc.npy\".format(year)).item()\n",
    "k, latent_dimension, lambda1, lambda2, lambda3 = param.split(\"-\")\n",
    "filename = \"sp-pre-{}-{}-{}-{}-{}\".format(lambda1, lambda2, lambda3, k, latent_dimension)\n",
    "directory = \"../data/result/reg/update_season/qbc/{}/{}/\".format(year, dataset)\n",
    "full_path = directory + filename\n",
    "sp['qbc'] = np.load(full_path)\n",
    "\n",
    "\n",
    "param = np.load(\"../data/best-param-{}-vb-new.npy\".format(year)).item()\n",
    "k, latent_dimension, a_gamma, b_gamma, a_beta, b_beta, a_alpha, b_alpha, random_seed = param.split(\"-\")\n",
    "filename = \"sp-{}-{}-{}-{}-{}-{}-{}-{}\".format(k, latent_dimension, a_gamma, b_gamma, a_beta, b_beta, a_alpha, b_alpha)\n",
    "directory = \"../data/result/vb_var/{}/{}/\".format(year, dataset)\n",
    "full_path = directory + filename\n",
    "sp['var'] = np.load(full_path)"
   ]
  },
  {
   "cell_type": "code",
   "execution_count": 21,
   "metadata": {
    "collapsed": true
   },
   "outputs": [],
   "source": [
    "random_seed = 0\n",
    "fold_num = 0\n",
    "month = 0\n",
    "select_id = 0\n",
    "home_index = sp['active'][random_seed][fold_num][month][select_id][0]\n",
    "tensor, hids = get_tensor(2015, 'artificial')\n",
    "train, test, tr_ids, tt_ids = get_train_test(tensor, hids, fold_num=fold_num)"
   ]
  },
  {
   "cell_type": "code",
   "execution_count": 28,
   "metadata": {
    "collapsed": true
   },
   "outputs": [],
   "source": [
    "raw_data = np.load(\"../data/data-2013-2017-observed-filtered-artificial.npy\").item()"
   ]
  },
  {
   "cell_type": "code",
   "execution_count": 105,
   "metadata": {
    "collapsed": true
   },
   "outputs": [],
   "source": [
    "survey = pd.read_csv(\"../data/survey_2013_all_participants_modified.csv\")\n",
    "metadata = pd.read_csv(\"../data/metadata.csv\")"
   ]
  },
  {
   "cell_type": "code",
   "execution_count": 101,
   "metadata": {
    "collapsed": true
   },
   "outputs": [],
   "source": [
    "square = {}\n"
   ]
  },
  {
   "cell_type": "code",
   "execution_count": 111,
   "metadata": {},
   "outputs": [
    {
     "name": "stdout",
     "output_type": "stream",
     "text": [
      "0 nan\n",
      "1 2008.864\n",
      "2 2006.696\n",
      "3 2008.032\n",
      "4 2008.464\n",
      "5 2001.28\n",
      "6 2006.536\n",
      "7 2004.44\n",
      "8 2004.136\n",
      "9 2006.912\n",
      "10 nan\n",
      "11 nan\n",
      "0 nan\n",
      "1 nan\n",
      "2 nan\n",
      "3 nan\n",
      "4 nan\n",
      "5 nan\n",
      "6 nan\n",
      "7 nan\n",
      "8 nan\n",
      "9 nan\n",
      "10 nan\n",
      "11 nan\n",
      "0 nan\n",
      "1 2007.728\n",
      "2 2006.856\n",
      "3 nan\n",
      "4 nan\n",
      "5 2002.016\n",
      "6 nan\n",
      "7 nan\n",
      "8 nan\n",
      "9 nan\n",
      "10 nan\n",
      "11 nan\n",
      "0 nan\n",
      "1 2008.888\n",
      "2 2005.848\n",
      "3 nan\n",
      "4 nan\n",
      "5 nan\n",
      "6 nan\n",
      "7 nan\n",
      "8 nan\n",
      "9 nan\n",
      "10 nan\n",
      "11 nan\n"
     ]
    }
   ],
   "source": [
    "for method in sp.keys():\n",
    "    square[method] = {}\n",
    "    for t in range(12):\n",
    "        s = 0\n",
    "        c = 0\n",
    "        for random_seed in range(5):\n",
    "            for fold_num in range(5):\n",
    "                train, test, tr_ids, tt_ids = get_train_test(tensor, hids, fold_num=fold_num)\n",
    "\n",
    "                for i in range(5):\n",
    "                    home_index = sp[method][random_seed][fold_num][t][i][0]\n",
    "                    train, test, tr_ids, tt_ids = get_train_test(tensor, hids, fold_num=fold_num)\n",
    "                    hid = tr_ids[home_index]\n",
    "    #                 print(hid)\n",
    "                    info = metadata.loc[metadata['dataid'] == hid]\n",
    "    #                 info = survey.loc[survey['dataid' == hid]]\n",
    "    #                 print(info)\n",
    "\n",
    "                    try:\n",
    "    #                     print(t, int(info['num_people']))\n",
    "                        s += float(info['house_construction_year'])\n",
    "    #                     s += int(info['num_people'])\n",
    "                        c += 1\n",
    "                    except:\n",
    "                        continue\n",
    "        if c == 0:\n",
    "            print(t, \"Null\")\n",
    "        else:\n",
    "            square[method][t] = s/c\n",
    "            print(t, s/c)"
   ]
  },
  {
   "cell_type": "code",
   "execution_count": 110,
   "metadata": {},
   "outputs": [
    {
     "data": {
      "text/plain": [
       "active    2425.384333\n",
       "qbc       2295.690333\n",
       "random    2138.829000\n",
       "var       2155.671333\n",
       "dtype: float64"
      ]
     },
     "execution_count": 110,
     "metadata": {},
     "output_type": "execute_result"
    }
   ],
   "source": [
    "pd.DataFrame(square).mean()"
   ]
  },
  {
   "cell_type": "code",
   "execution_count": 64,
   "metadata": {},
   "outputs": [
    {
     "data": {
      "text/html": [
       "<div>\n",
       "<style scoped>\n",
       "    .dataframe tbody tr th:only-of-type {\n",
       "        vertical-align: middle;\n",
       "    }\n",
       "\n",
       "    .dataframe tbody tr th {\n",
       "        vertical-align: top;\n",
       "    }\n",
       "\n",
       "    .dataframe thead th {\n",
       "        text-align: right;\n",
       "    }\n",
       "</style>\n",
       "<table border=\"1\" class=\"dataframe\">\n",
       "  <thead>\n",
       "    <tr style=\"text-align: right;\">\n",
       "      <th></th>\n",
       "      <th>dataid</th>\n",
       "      <th>number_floors</th>\n",
       "      <th>house_num_rooms</th>\n",
       "      <th>house_square_feet</th>\n",
       "      <th>sex_males</th>\n",
       "      <th>sex_females</th>\n",
       "      <th>num_people</th>\n",
       "    </tr>\n",
       "  </thead>\n",
       "  <tbody>\n",
       "    <tr>\n",
       "      <th>97</th>\n",
       "      <td>3723</td>\n",
       "      <td>2</td>\n",
       "      <td>3</td>\n",
       "      <td>1551</td>\n",
       "      <td>1</td>\n",
       "      <td>1.0</td>\n",
       "      <td>2</td>\n",
       "    </tr>\n",
       "  </tbody>\n",
       "</table>\n",
       "</div>"
      ],
      "text/plain": [
       "    dataid  number_floors  house_num_rooms  house_square_feet  sex_males  \\\n",
       "97    3723              2                3               1551          1   \n",
       "\n",
       "    sex_females  num_people  \n",
       "97          1.0           2  "
      ]
     },
     "execution_count": 64,
     "metadata": {},
     "output_type": "execute_result"
    }
   ],
   "source": [
    "info = survey.loc[survey['dataid'] == hid]\n",
    "# info['num_people']\n",
    "info"
   ]
  }
 ],
 "metadata": {
  "kernelspec": {
   "display_name": "Python 3",
   "language": "python",
   "name": "python3"
  },
  "language_info": {
   "codemirror_mode": {
    "name": "ipython",
    "version": 3
   },
   "file_extension": ".py",
   "mimetype": "text/x-python",
   "name": "python",
   "nbconvert_exporter": "python",
   "pygments_lexer": "ipython3",
   "version": "3.5.2"
  }
 },
 "nbformat": 4,
 "nbformat_minor": 2
}
