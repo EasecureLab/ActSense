{
 "cells": [
  {
   "cell_type": "code",
   "execution_count": 1,
   "metadata": {
    "collapsed": true
   },
   "outputs": [],
   "source": [
    "import numpy as np\n",
    "import sys\n",
    "sys.path.append(\"../code/\")\n",
    "from structure import *\n",
    "from algo import *\n",
    "from basic import *\n",
    "from analysis import *\n",
    "import pandas as pd\n",
    "%matplotlib inline\n",
    "import matplotlib.pyplot as plt\n",
    "from autograd.numpy import linalg as LA\n",
    "import pickle\n",
    "import itertools\n",
    "from itertools import product\n",
    "import calendar\n",
    "from sklearn.metrics import mean_squared_error\n",
    "%load_ext autoreload\n",
    "%autoreload 2\n",
    "import warnings\n",
    "import seaborn as sns\n",
    "warnings.filterwarnings(\"ignore\")\n",
    "from sklearn.manifold import TSNE\n",
    "from sklearn.cluster import KMeans\n",
    "import numpy as np"
   ]
  },
  {
   "cell_type": "code",
   "execution_count": 2,
   "metadata": {
    "collapsed": true
   },
   "outputs": [],
   "source": [
    "year = 2015\n",
    "dataset = 'artificial'\n",
    "order = APP_NAME_OBSERVED"
   ]
  },
  {
   "cell_type": "code",
   "execution_count": 15,
   "metadata": {
    "collapsed": true
   },
   "outputs": [],
   "source": [
    "# load the selected pairs with the best parameter\n",
    "result = {}\n",
    "method = 'active'\n",
    "uncertainty = 'prev_future_weighted'\n",
    "param = np.load(\"../data/best-param-{}-active.npy\".format(year)).item()\n",
    "k, latent_dimension, lambda1, lambda2, lambda3, kernel, sigma = param.split(\"-\")\n",
    "\n",
    "# result['uncertainty'] = {}\n",
    "for sigma in range(12):\n",
    "    result[sigma] = get_active_results(year=year, dataset=dataset, method=method, kernel=kernel, sigma=int(sigma),\n",
    "                                          lambda1=int(lambda1), lambda2=int(lambda2), lambda3=int(lambda3), k=k,\n",
    "                                          latent_dimension=int(latent_dimension), uncertainty=uncertainty)    "
   ]
  },
  {
   "cell_type": "code",
   "execution_count": 42,
   "metadata": {},
   "outputs": [
    {
     "data": {
      "text/plain": [
       "49.41450141105846"
      ]
     },
     "execution_count": 42,
     "metadata": {},
     "output_type": "execute_result"
    }
   ],
   "source": [
    "pd.DataFrame(np.load(\"../data/best-result-2015-qbc.npy\").item()).mean(axis=0).mean()"
   ]
  },
  {
   "cell_type": "code",
   "execution_count": 16,
   "metadata": {
    "collapsed": true
   },
   "outputs": [],
   "source": [
    "error = {}\n",
    "for e_type in ['overall', 'app']:\n",
    "    error[e_type] = {}\n",
    "    for t_type in ['accu', 'month']:\n",
    "        error[e_type][t_type] = {}\n",
    "        for k in range(12):\n",
    "            error[e_type][t_type][k] = {}\n",
    "            for idx, appliance in enumerate(order[1:]):\n",
    "                error[e_type][t_type][k][appliance] = {}\n",
    "                for t in range(12):\n",
    "                    error[e_type][t_type][k][appliance][t] = {}\n",
    "                    for random_seed in range(5):\n",
    "                        error[e_type][t_type][k][appliance][t][random_seed] = {}"
   ]
  },
  {
   "cell_type": "code",
   "execution_count": 17,
   "metadata": {
    "collapsed": true
   },
   "outputs": [],
   "source": [
    "tensor, homeidx = get_tensor(year, dataset)\n",
    "mask_tensor = ~np.isnan(tensor)"
   ]
  },
  {
   "cell_type": "code",
   "execution_count": 18,
   "metadata": {
    "collapsed": true
   },
   "outputs": [],
   "source": [
    "for k in range(12):\n",
    "    for t in range(12):\n",
    "        # random method\n",
    "        for idx, appliance in enumerate(order[1:]):\n",
    "            idx += 1\n",
    "            for random_seed in range(10):\n",
    "                # for active method\n",
    "                predApp = result[k]['prediction'][random_seed][t][:, idx, :] # tensor\n",
    "                predApp[predApp<0] = 0\n",
    "\n",
    "                # accumulated appliance error\n",
    "                appAccuPred = predApp[:, :(t+1)]\n",
    "#                 print(appliance, appAccuPred.min())\n",
    "                error['app']['accu'][k][appliance][t][random_seed] = np.sqrt(mean_squared_error(appAccuPred[mask_tensor[:, idx, :(t+1)]], \n",
    "                                                                                               tensor[:, idx, :(t+1)][mask_tensor[:, idx, :(t+1)]]))\n",
    "                # appliance error in current month\n",
    "                appMonthPred = predApp[:, t]\n",
    "                error['app']['month'][k][appliance][t][random_seed] = np.sqrt(mean_squared_error(appMonthPred[mask_tensor[:, idx, t]], \n",
    "                                                                                                tensor[:, idx, t][mask_tensor[:, idx, t]]))\n",
    "\n",
    "\n"
   ]
  },
  {
   "cell_type": "code",
   "execution_count": 20,
   "metadata": {
    "collapsed": true
   },
   "outputs": [],
   "source": [
    "mean_error = {}\n",
    "\n",
    "for k in range(12):\n",
    "    mean_error[k] = {}\n",
    "    for appliance in order[1:]:\n",
    "        mean_error[k][appliance] = pd.DataFrame(error['app']['month'][k][appliance]).mean(axis=0)"
   ]
  },
  {
   "cell_type": "code",
   "execution_count": 72,
   "metadata": {
    "collapsed": true
   },
   "outputs": [],
   "source": [
    "err = {}\n",
    "\n",
    "for k in range(12):\n",
    "    err[k] = pd.DataFrame(mean_error[k]).mean().mean()"
   ]
  },
  {
   "cell_type": "code",
   "execution_count": 35,
   "metadata": {},
   "outputs": [
    {
     "data": {
      "text/plain": [
       "Text(0.5,0,'Sigma')"
      ]
     },
     "execution_count": 35,
     "metadata": {},
     "output_type": "execute_result"
    },
    {
     "data": {
      "image/png": "[encoded data removed]",
      "text/plain": [
       "<Figure size 432x288 with 1 Axes>"
      ]
     },
     "metadata": {
      "needs_background": "light"
     },
     "output_type": "display_data"
    }
   ],
   "source": [
    "ax = pd.Series(err).plot(marker='o')\n",
    "ax.set_ylabel(\"Year RMSE \\n Lower is better\")\n",
    "ax.set_xlabel(\"Sigma\")"
   ]
  },
  {
   "cell_type": "code",
   "execution_count": 78,
   "metadata": {
    "collapsed": true
   },
   "outputs": [],
   "source": [
    "qbc = [pd.DataFrame(np.load(\"../data/best-result-2015-qbc.npy\").item()).mean(axis=0).mean()] * 12"
   ]
  },
  {
   "cell_type": "code",
   "execution_count": 80,
   "metadata": {
    "collapsed": true
   },
   "outputs": [],
   "source": [
    "# pd.Series(qbc).append(pd.Series(err), axis=1)\n",
    "data = pd.DataFrame({'ALS-Uncertainty': pd.Series(err),'ALS-QBC':pd.Series(qbc)})"
   ]
  },
  {
   "cell_type": "code",
   "execution_count": 84,
   "metadata": {},
   "outputs": [
    {
     "data": {
      "text/plain": [
       "<matplotlib.axes._subplots.AxesSubplot at 0x7f0f4a4dec50>"
      ]
     },
     "execution_count": 84,
     "metadata": {},
     "output_type": "execute_result"
    },
    {
     "data": {
      "image/png": "[encoded data removed]",
      "text/plain": [
       "<Figure size 432x288 with 1 Axes>"
      ]
     },
     "metadata": {
      "needs_background": "light"
     },
     "output_type": "display_data"
    }
   ],
   "source": [
    "data[1:].plot()"
   ]
  }
 ],
 "metadata": {
  "kernelspec": {
   "display_name": "Python 3",
   "language": "python",
   "name": "python3"
  },
  "language_info": {
   "codemirror_mode": {
    "name": "ipython",
    "version": 3
   },
   "file_extension": ".py",
   "mimetype": "text/x-python",
   "name": "python",
   "nbconvert_exporter": "python",
   "pygments_lexer": "ipython3",
   "version": "3.5.2"
  }
 },
 "nbformat": 4,
 "nbformat_minor": 2
}
