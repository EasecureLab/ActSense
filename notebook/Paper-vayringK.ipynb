{
 "cells": [
  {
   "cell_type": "code",
   "execution_count": 1,
   "metadata": {},
   "outputs": [],
   "source": [
    "import numpy as np\n",
    "import sys\n",
    "sys.path.append(\"../code/\")\n",
    "from structure import *\n",
    "from algo import *\n",
    "from basic import *\n",
    "from analysis import *\n",
    "import pandas as pd\n",
    "%matplotlib inline\n",
    "import matplotlib.pyplot as plt\n",
    "from autograd.numpy import linalg as LA\n",
    "import pickle\n",
    "import itertools\n",
    "from itertools import product\n",
    "import calendar\n",
    "from sklearn.metrics import mean_squared_error\n",
    "%load_ext autoreload\n",
    "%autoreload 2\n",
    "import warnings\n",
    "import seaborn as sns\n",
    "warnings.filterwarnings(\"ignore\")\n",
    "from sklearn.manifold import TSNE\n",
    "from sklearn.cluster import KMeans\n",
    "import numpy as np\n",
    "import matplotlib\n",
    "matplotlib.rcParams['ps.useafm']=True\n",
    "matplotlib.rcParams['pdf.use14corefonts']=True\n",
    "matplotlib.rcParams['text.usetex']=True"
   ]
  },
  {
   "cell_type": "code",
   "execution_count": 5,
   "metadata": {
    "collapsed": true
   },
   "outputs": [],
   "source": [
    "year = 2015\n",
    "dataset = 'artificial_old'\n",
    "order = APP_NAME_OBSERVED"
   ]
  },
  {
   "cell_type": "code",
   "execution_count": 10,
   "metadata": {},
   "outputs": [
    {
     "name": "stdout",
     "output_type": "stream",
     "text": [
      "1\n",
      "2\n",
      "3\n",
      "5\n",
      "8\n",
      "10\n",
      "15\n",
      "20\n",
      "random\n",
      "qbc\n"
     ]
    }
   ],
   "source": [
    "# load the selected pairs with the best parameter\n",
    "dataset = 'artificial_old'\n",
    "result = {}\n",
    "method = 'active'\n",
    "uncertainty = 'prev_future_weighted'\n",
    "param = np.load(\"../data/best-param-{}-active.npy\".format(year)).item()\n",
    "k, latent_dimension, lambda1, lambda2, lambda3, kernel, sigma = param.split(\"-\")\n",
    "\n",
    "result['active'] = {}\n",
    "for k in[1, 2, 3, 5, 8, 10, 15, 20]:\n",
    "    print(k)\n",
    "    result['active'][k] = get_active_results(year=year, dataset=dataset, method=method, kernel=kernel, sigma=int(sigma),\n",
    "                                          lambda1=int(lambda1), lambda2=int(lambda2), lambda3=int(lambda3), k=k,\n",
    "                                          latent_dimension=int(latent_dimension), uncertainty=uncertainty)    \n",
    "\n",
    "dataset = 'artificial'\n",
    "for method in ['random', 'qbc']:\n",
    "    print(method)\n",
    "    result[method] = {}\n",
    "    param = np.load(\"../data/best-param-{}-{}.npy\".format(year, method)).item()\n",
    "    k, latent_dimension, lambda1, lambda2, lambda3 = param.split(\"-\")\n",
    "    for k in [1, 2, 3, 5, 8, 10, 15, 20]:\n",
    "        result[method][k] = get_active_results(year=year, dataset=dataset, method=method, lambda1=int(lambda1),\n",
    "                                              lambda2=int(lambda2), lambda3=int(lambda3), k=k)"
   ]
  },
  {
   "cell_type": "code",
   "execution_count": 15,
   "metadata": {},
   "outputs": [
    {
     "data": {
      "text/plain": [
       "'5-4-0.01-1.0-0.01-1.0-1.0-0.1-4'"
      ]
     },
     "execution_count": 15,
     "metadata": {},
     "output_type": "execute_result"
    }
   ],
   "source": [
    "param"
   ]
  },
  {
   "cell_type": "code",
   "execution_count": 17,
   "metadata": {},
   "outputs": [],
   "source": [
    "# get the result of vbi\n",
    "param = np.load(\"../data/best-param-2015-vb-new.npy\").item()\n",
    "k, latent_dimension, a_gamma, b_gamma, a_beta, b_beta, a_alpha, b_alpha, random_seed = param.split(\"-\")\n",
    "\n",
    "\n",
    "r = {}\n",
    "for k in [1, 2, 3, 5, 8, 10, 15, 20]:\n",
    "\n",
    "    pre_dir = \"../data/result/vb_var/{}/artificial\".format(year)\n",
    "\n",
    "    param_name = \"{}-{}-{}-{}-{}-{}-{}-{}\".format(k, latent_dimension, a_gamma,\n",
    "                                                  b_gamma, a_beta, b_beta, a_alpha,\n",
    "                                                  b_alpha)\n",
    "\n",
    "    full_path = \"{}/pred-{}\".format(pre_dir, param_name)\n",
    "#     print(full_path)\n",
    "    r[k] = np.load(full_path)\n",
    "\n",
    "mean_vb = {}\n",
    "tensor, hid = get_tensor(year, dataset)\n",
    "for p in r.keys():\n",
    "    for random_seed in range(5):\n",
    "        mean_vb[p] = {}\n",
    "        for t in range(12):\n",
    "            mean_vb[p][t] = {}\n",
    "            for idx, app in enumerate(APPLIANCE_ORDER_OBSERVED[1:]):\n",
    "                idx += 1\n",
    "                mean_vb[p][t][idx] = np.sqrt(mean_squared_error(r[p][random_seed][t][:, idx, t], tensor[:, idx, t]))\n",
    "\n",
    "mean_error_vb = {}\n",
    "for p in mean_vb.keys():\n",
    "    mean_error_vb[p] = {}\n",
    "    for t in range(12):\n",
    "        mean_error_vb[p][t] = pd.Series(mean_vb[p][t]).mean()"
   ]
  },
  {
   "cell_type": "code",
   "execution_count": 18,
   "metadata": {},
   "outputs": [
    {
     "data": {
      "text/plain": [
       "1     127.260019\n",
       "2     115.129308\n",
       "3     108.764244\n",
       "5      96.334394\n",
       "8      84.328925\n",
       "10     79.808696\n",
       "15     81.936733\n",
       "20     78.203227\n",
       "dtype: float64"
      ]
     },
     "execution_count": 18,
     "metadata": {},
     "output_type": "execute_result"
    }
   ],
   "source": [
    "pd.DataFrame(mean_error_vb).mean()"
   ]
  },
  {
   "cell_type": "code",
   "execution_count": 19,
   "metadata": {
    "collapsed": true
   },
   "outputs": [],
   "source": [
    "error = {}\n",
    "for e_type in ['overall', 'app']:\n",
    "    error[e_type] = {}\n",
    "    for t_type in ['accu', 'month']:\n",
    "        error[e_type][t_type] = {}\n",
    "        for param in result.keys():\n",
    "            error[e_type][t_type][param] = {}\n",
    "            for k in [1, 2, 3, 5, 8, 10, 15, 20]:\n",
    "                error[e_type][t_type][param][k] = {}\n",
    "                for idx, appliance in enumerate(order[1:]):\n",
    "                    error[e_type][t_type][param][k][appliance] = {}\n",
    "                    for t in range(12):\n",
    "                        error[e_type][t_type][param][k][appliance][t] = {}\n",
    "                        for random_seed in range(5):\n",
    "                            error[e_type][t_type][param][k][appliance][t][random_seed] = {}"
   ]
  },
  {
   "cell_type": "code",
   "execution_count": 20,
   "metadata": {
    "collapsed": true
   },
   "outputs": [],
   "source": [
    "tensor, homeidx = get_tensor(year, dataset)\n",
    "mask_tensor = ~np.isnan(tensor)"
   ]
  },
  {
   "cell_type": "code",
   "execution_count": 21,
   "metadata": {
    "collapsed": true
   },
   "outputs": [],
   "source": [
    "for param in result.keys():\n",
    "    for k in [1, 2, 3, 5, 8, 10, 15, 20]:\n",
    "        for t in range(12):\n",
    "            # random method\n",
    "            for idx, appliance in enumerate(order[1:]):\n",
    "                idx += 1\n",
    "                for random_seed in range(10):\n",
    "                    # for active method\n",
    "                    predApp = result[param][k]['prediction'][random_seed][t][:, idx, :] # tensor\n",
    "                    predApp[predApp<0] = 0\n",
    "\n",
    "                    # accumulated appliance error\n",
    "                    appAccuPred = predApp[:, :(t+1)]\n",
    "    #                 print(appliance, appAccuPred.min())\n",
    "                    error['app']['accu'][param][k][appliance][t][random_seed] = np.sqrt(mean_squared_error(appAccuPred[mask_tensor[:, idx, :(t+1)]], \n",
    "                                                                                                   tensor[:, idx, :(t+1)][mask_tensor[:, idx, :(t+1)]]))\n",
    "                    # appliance error in current month\n",
    "                    appMonthPred = predApp[:, t]\n",
    "                    error['app']['month'][param][k][appliance][t][random_seed] = np.sqrt(mean_squared_error(appMonthPred[mask_tensor[:, idx, t]], \n",
    "                                                                                                    tensor[:, idx, t][mask_tensor[:, idx, t]]))\n",
    "\n"
   ]
  },
  {
   "cell_type": "code",
   "execution_count": 22,
   "metadata": {
    "collapsed": true
   },
   "outputs": [],
   "source": [
    "mean_error = {}\n",
    "for param in result.keys():\n",
    "    mean_error[param] = {}\n",
    "    for k in [1, 2, 3, 5, 8, 10, 15, 20]:\n",
    "        mean_error[param][k] = {}\n",
    "        for appliance in order[1:]:\n",
    "            mean_error[param][k][appliance] = pd.DataFrame(error['app']['month'][param][k][appliance]).mean(axis=0)"
   ]
  },
  {
   "cell_type": "code",
   "execution_count": 23,
   "metadata": {
    "collapsed": true
   },
   "outputs": [],
   "source": [
    "err = {}\n",
    "for param in result.keys():\n",
    "    err[param] = {}\n",
    "    for k in [1, 2, 3, 5, 8, 10, 15, 20]:\n",
    "        err[param][k] = pd.DataFrame(mean_error[param][k]).mean().mean()"
   ]
  },
  {
   "cell_type": "code",
   "execution_count": 24,
   "metadata": {
    "collapsed": true
   },
   "outputs": [],
   "source": [
    "err['var'] = pd.DataFrame(mean_error_vb).mean()"
   ]
  },
  {
   "cell_type": "code",
   "execution_count": 36,
   "metadata": {},
   "outputs": [
    {
     "data": {
      "image/png": "[encoded data removed]",
      "text/plain": [
       "<Figure size 432x216 with 1 Axes>"
      ]
     },
     "metadata": {},
     "output_type": "display_data"
    }
   ],
   "source": [
    "# from plot_functions import format_axes, latexify\n",
    "\n",
    "# latexify(columns=1)\n",
    "\n",
    "name_dict = {'qbc':'QBC', 'active':'ActSense', 'random':'Random', 'var':'VBV'}\n",
    "df = pd.DataFrame(err)\n",
    "df = df.rename(columns=name_dict)\n",
    "\n",
    "ax = df.plot(style=['^-', 'X-', 'o-', 's-'], figsize=(6, 3))\n",
    "ax.tick_params(labelsize=15)\n",
    "ax.set_xticks([1, 2, 3, 5, 8, 10, 15, 20])\n",
    "ax.set_xlabel(\"L: the number of new observations in each month\", fontsize=15)\n",
    "ax.set_ylabel(\"Year RMSE \\nLower is better\", fontsize=15)\n",
    "ax.legend(fontsize=12)\n",
    "# fig = ax.get_figure()\n",
    "# fig.figsize(12, 12)\n",
    "ax.annotate('50', xy=(50, 50), xytext=(0, 0.5), arrowprops=dict(facecolor='black', shrink=0.003, width=2), horizontalalignment='left', verticalalignment='bottom')\n",
    "\n",
    "plt.axhline(y=50, linestyle='--', color='k')\n",
    "\n",
    "# format_axes(ax)\n",
    "plt.savefig(\"../figure/VaryingK.pdf\", bbox_inches=\"tight\")"
   ]
  },
  {
   "cell_type": "code",
   "execution_count": 30,
   "metadata": {},
   "outputs": [
    {
     "data": {
      "image/png": "[encoded data removed]",
      "text/plain": [
       "<Figure size 432x216 with 1 Axes>"
      ]
     },
     "metadata": {},
     "output_type": "display_data"
    }
   ],
   "source": [
    "# from plot_functions import format_axes, latexify\n",
    "\n",
    "# latexify(columns=1)\n",
    "\n",
    "name_dict = {'qbc':'QBC', 'active':'ActSense', 'random':'Random', 'var':'VBV'}\n",
    "df = pd.DataFrame(err)\n",
    "df = df.rename(columns=name_dict)\n",
    "ax = df.plot(style=['^-', 'X-', 'o-', 's-'], figsize=(6, 3))\n",
    "ax.set_xticks([1, 2, 3, 5, 8, 10, 15, 20])\n",
    "ax.set_xlabel(\"K: the number of new observations in each round\", fontsize=12)\n",
    "ax.set_ylabel(\"Year RMSE \\nLower is better\", fontsize=12)\n",
    "ax.legend(fontsize=12)\n",
    "# fig = ax.get_figure()\n",
    "# fig.figsize(12, 12)\n",
    "ax.annotate('50', xy=(50, 50), xytext=(0, 0.5), arrowprops=dict(facecolor='black', shrink=0.003, width=2), horizontalalignment='left', verticalalignment='bottom')\n",
    "\n",
    "plt.axhline(y=50, linestyle='--', color='k')\n",
    "\n",
    "# format_axes(ax)\n",
    "plt.savefig(\"../figure/VaryingK.pdf\", bbox_inches=\"tight\")"
   ]
  },
  {
   "cell_type": "code",
   "execution_count": null,
   "metadata": {
    "collapsed": true
   },
   "outputs": [],
   "source": []
  }
 ],
 "metadata": {
  "kernelspec": {
   "display_name": "Python 3",
   "language": "python",
   "name": "python3"
  },
  "language_info": {
   "codemirror_mode": {
    "name": "ipython",
    "version": 3
   },
   "file_extension": ".py",
   "mimetype": "text/x-python",
   "name": "python",
   "nbconvert_exporter": "python",
   "pygments_lexer": "ipython3",
   "version": "3.5.2"
  }
 },
 "nbformat": 4,
 "nbformat_minor": 2
}
