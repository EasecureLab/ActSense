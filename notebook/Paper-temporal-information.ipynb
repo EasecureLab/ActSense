{
 "cells": [
  {
   "cell_type": "code",
   "execution_count": 1,
   "metadata": {},
   "outputs": [],
   "source": [
    "import numpy as np\n",
    "import sys\n",
    "sys.path.append(\"../code/\")\n",
    "from structure import *\n",
    "from algo import *\n",
    "from basic import *\n",
    "from analysis import *\n",
    "import pandas as pd\n",
    "%matplotlib inline\n",
    "import matplotlib.pyplot as plt\n",
    "from autograd.numpy import linalg as LA\n",
    "import pickle\n",
    "import itertools\n",
    "from itertools import product\n",
    "import calendar\n",
    "from sklearn.metrics import mean_squared_error\n",
    "%load_ext autoreload\n",
    "%autoreload 2\n",
    "import warnings\n",
    "import seaborn as sns\n",
    "warnings.filterwarnings(\"ignore\")\n",
    "from sklearn.manifold import TSNE\n",
    "from sklearn.cluster import KMeans\n",
    "import numpy as np\n",
    "import matplotlib\n",
    "matplotlib.rcParams['ps.useafm']=True\n",
    "matplotlib.rcParams['pdf.use14corefonts']=True\n",
    "matplotlib.rcParams['text.usetex']=True"
   ]
  },
  {
   "cell_type": "code",
   "execution_count": 2,
   "metadata": {
    "collapsed": true
   },
   "outputs": [],
   "source": [
    "year=2015\n",
    "tensor, hid = get_tensor(year, 'artificial')\n",
    "order = APP_NAME_OBSERVED"
   ]
  },
  {
   "cell_type": "code",
   "execution_count": 3,
   "metadata": {
    "collapsed": true
   },
   "outputs": [],
   "source": [
    "# pd.DataFrame(improved_rate).plot(ax=ax[2], style='.-', title='updated season factor with regularization')\n",
    "ind = [ 0,  1,  2,  3,  4,  5,  6,  7,  8,  9, 10, 11]\n",
    "month = ['Jan', 'Feb', 'Mar', 'Apr', 'May', 'Jun', 'Jul', 'Aug', 'Sep', 'Oct', 'Nov', 'Dec']\n"
   ]
  },
  {
   "cell_type": "code",
   "execution_count": 4,
   "metadata": {
    "collapsed": true
   },
   "outputs": [],
   "source": [
    "year = 2015\n",
    "result = {}\n",
    "result['Random'] = np.load(\"../data/best-result-{}-{}.npy\".format(year, 'random')).item()\n",
    "result['Current '] = np.load(\"../data/best-result-{}-{}-{}.npy\".format(year, 'active', 'current')).item()\n",
    "result['Current + Future'] = np.load(\"../data/best-result-{}-{}.npy\".format(year, 'active', 'future_weighted')).item()\n",
    "result['History + Current + Future '] = np.load(\"../data/best-result-{}-{}.npy\".format(year, 'active', 'prev_future_weighted')).item()\n",
    "# result['VBI-Variance'] = np.load(\"../data/best-result-{}-{}.npy\".format(year, 'vb-new')).item()"
   ]
  },
  {
   "cell_type": "code",
   "execution_count": 5,
   "metadata": {
    "collapsed": true
   },
   "outputs": [],
   "source": [
    "mean = {}\n",
    "for method in result.keys():\n",
    "    mean[method] = pd.DataFrame(result[method]).mean(axis=1)"
   ]
  },
  {
   "cell_type": "code",
   "execution_count": 6,
   "metadata": {},
   "outputs": [
    {
     "data": {
      "image/png": "[encoded data removed]",
      "text/plain": [
       "<Figure size 432x216 with 1 Axes>"
      ]
     },
     "metadata": {},
     "output_type": "display_data"
    }
   ],
   "source": [
    "ax = pd.DataFrame(mean).plot(kind='bar', figsize=(6, 3))\n",
    "\n",
    "ax.set_xlabel(\"Month\", fontsize=12)\n",
    "ax.set_xticks(ind)\n",
    "ax.set_xticklabels(month, rotation=90, fontsize=12)\n",
    "ax.set_ylabel(\"Mean RMSE \\n Lower is better\", fontsize=12)\n",
    "ax.set_ylim(ymin=35)\n",
    "\n",
    "fig = ax.get_figure()\n",
    "# fig.tight_layout()"
   ]
  },
  {
   "cell_type": "code",
   "execution_count": 7,
   "metadata": {
    "collapsed": true
   },
   "outputs": [],
   "source": [
    "rate = {}\n",
    "for method in result.keys():\n",
    "    rate[method] = {}\n",
    "    for t in range(12):\n",
    "        rate[method][t] = 100 * (1 - mean[method][t] / mean['Random'][t])\n",
    "    "
   ]
  },
  {
   "cell_type": "code",
   "execution_count": 8,
   "metadata": {},
   "outputs": [
    {
     "data": {
      "text/plain": [
       "Current                        31.357477\n",
       "Current + Future               35.060696\n",
       "History + Current + Future     35.060696\n",
       "Random                          0.000000\n",
       "dtype: float64"
      ]
     },
     "execution_count": 8,
     "metadata": {},
     "output_type": "execute_result"
    }
   ],
   "source": [
    "pd.DataFrame(rate).max()"
   ]
  },
  {
   "cell_type": "code",
   "execution_count": 15,
   "metadata": {},
   "outputs": [],
   "source": [
    "sp = {}\n",
    "for uncertainty in ['current', 'future_weighted', 'prev_future_weighted']:\n",
    "    param = np.load(\"../data/best-param-2015-active-{}.npy\".format(uncertainty)).item()\n",
    "    k, latent_dimension, lambda1, lambda2, lambda3, kernel, delta = param.split(\"-\")\n",
    "    filename = \"sp-pre-none-{}-{}-{}-0.1-0.1-0.0-{}-{}-{}-{}-{}\".format(uncertainty, kernel, delta, lambda1, lambda2,\n",
    "                                                                                        lambda3, k, latent_dimension)\n",
    "    directory = \"../data/result/reg/update_season/active/2015/artificial_old/\"\n",
    "    full_path = directory + filename\n",
    "    sp[uncertainty] = np.load(full_path)"
   ]
  },
  {
   "cell_type": "code",
   "execution_count": 16,
   "metadata": {
    "collapsed": true
   },
   "outputs": [],
   "source": [
    "def calculate_selected_appliance(sp, k, num_random):\n",
    "    selected_app = np.zeros((12, len(order)))\n",
    "    for random_seed in range(num_random):\n",
    "        for fold_num in range(5):\n",
    "            for t in range(1, 12):\n",
    "                for i in range(k):\n",
    "#                     print(random_seed, fold_num, t, i)\n",
    "                    app_idx = sp[random_seed][fold_num][t][i][1]\n",
    "                    selected_app[t][app_idx] += 1\n",
    "    return selected_app"
   ]
  },
  {
   "cell_type": "code",
   "execution_count": 22,
   "metadata": {},
   "outputs": [
    {
     "data": {
      "image/png": "[encoded data removed]",
      "text/plain": [
       "<Figure size 648x144 with 3 Axes>"
      ]
     },
     "metadata": {},
     "output_type": "display_data"
    }
   ],
   "source": [
    "colors = ['gold', 'yellow', 'lightgreen', 'skyblue', 'orangered', 'purple', 'pink']\n",
    "name_dict = {'current':'Current', 'future_weighted':'Current + Future', 'prev_future_weighted':'History + Current + Future'}\n",
    "\n",
    "\n",
    "num_fig = len(sp.keys())\n",
    "month = ['Jan', 'Mar', 'May', 'Jul', 'Sep',  'Nov']\n",
    "fig, axes = plt.subplots(nrows=1, ncols=3, figsize=(9, 2), sharey=True)\n",
    "ax = axes.flatten()\n",
    "for n, key in enumerate(sp.keys()):\n",
    "    selected_pairs = calculate_selected_appliance(sp[key], 5, 5)/(5*5*5) + 0.0001\n",
    "\n",
    "    ind = [ 0,  1,  2,  3,  4,  5,  6,  7,  8,  9, 10]\n",
    "    true_ind = [ 0,  2,  4,   6,   8,  10]\n",
    "    width=0.4\n",
    "    p = {}\n",
    "    p[1] = ax[n].bar(ind, selected_pairs[1:, 1], width, color='orange')\n",
    "    for t in range(2, 7):\n",
    "        bottom = 0\n",
    "        for i in range(1, t):\n",
    "            bottom += selected_pairs[1:, i]\n",
    "        p[t] = ax[n].bar(ind, selected_pairs[1:, t], width, bottom=bottom, color=colors[t-1])\n",
    "    ax[n].set_xticks(true_ind)\n",
    "    # Set the tick labels\n",
    "    ax[n].tick_params(labelsize=15)\n",
    "    ax[n].set_xticklabels(month, fontsize=12)\n",
    "    ax[n].set_title(name_dict[key], fontsize=12)\n",
    "\n",
    "plt.subplots_adjust(hspace=0.5, wspace=0.1)\n",
    "plt.legend((p[1], p[2], p[3], p[4], p[5], p[6]), order[1:], fontsize=12, ncol=3, framealpha=1,\n",
    "           fancybox=True, bbox_to_anchor=(0.5, -0.7), loc='lower right')\n",
    "fig.savefig(\"../figure/selected_appliance_uncertainty.pdf\",format='pdf', bbox_inches='tight')"
   ]
  },
  {
   "cell_type": "code",
   "execution_count": 18,
   "metadata": {},
   "outputs": [
    {
     "data": {
      "image/png": "[encoded data removed]",
      "text/plain": [
       "<Figure size 648x144 with 3 Axes>"
      ]
     },
     "metadata": {},
     "output_type": "display_data"
    }
   ],
   "source": [
    "colors = ['gold', 'yellow', 'lightgreen', 'skyblue', 'orangered', 'purple', 'pink']\n",
    "name_dict = {'current':'Current', 'future_weighted':'Current + Future', 'prev_future_weighted':'History + Current + Future'}\n",
    "\n",
    "\n",
    "num_fig = len(sp.keys())\n",
    "month = ['Jan', 'Mar', 'May', 'Jul', 'Sep',  'Nov']\n",
    "fig, axes = plt.subplots(nrows=1, ncols=3, figsize=(9, 2), sharey=True)\n",
    "ax = axes.flatten()\n",
    "for n, key in enumerate(sp.keys()):\n",
    "    selected_pairs = calculate_selected_appliance(sp[key], 5, 5)/(5*5*5) + 0.0001\n",
    "\n",
    "    ind = [ 0,  1,  2,  3,  4,  5,  6,  7,  8,  9, 10]\n",
    "    true_ind = [ 0,  2,  4,   6,   8,  10]\n",
    "    width=0.4\n",
    "    p = {}\n",
    "    p[1] = ax[n].bar(ind, selected_pairs[1:, 1], width, color='orange')\n",
    "    for t in range(2, 7):\n",
    "        bottom = 0\n",
    "        for i in range(1, t):\n",
    "            bottom += selected_pairs[1:, i]\n",
    "        p[t] = ax[n].bar(ind, selected_pairs[1:, t], width, bottom=bottom, color=colors[t-1])\n",
    "    ax[n].set_xticks(true_ind)\n",
    "    # Set the tick labels\n",
    "    ax[n].set_xticklabels(month)\n",
    "    ax[n].set_title(name_dict[key])\n",
    "\n",
    "plt.subplots_adjust(hspace=0.5, wspace=0.1)\n",
    "plt.legend((p[1], p[2], p[3], p[4], p[5], p[6]), order[1:], fontsize=12, ncol=6, framealpha=1,\n",
    "           fancybox=True, bbox_to_anchor=(1.7, -0.2))\n",
    "fig.savefig(\"../figure/selected_appliance_uncertainty_one_line.pdf\",format='pdf', bbox_inches='tight')"
   ]
  },
  {
   "cell_type": "code",
   "execution_count": null,
   "metadata": {
    "collapsed": true
   },
   "outputs": [],
   "source": []
  }
 ],
 "metadata": {
  "kernelspec": {
   "display_name": "Python 3",
   "language": "python",
   "name": "python3"
  },
  "language_info": {
   "codemirror_mode": {
    "name": "ipython",
    "version": 3
   },
   "file_extension": ".py",
   "mimetype": "text/x-python",
   "name": "python",
   "nbconvert_exporter": "python",
   "pygments_lexer": "ipython3",
   "version": "3.5.2"
  }
 },
 "nbformat": 4,
 "nbformat_minor": 2
}
