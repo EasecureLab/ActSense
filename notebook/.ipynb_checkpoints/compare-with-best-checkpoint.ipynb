{
 "cells": [
  {
   "cell_type": "code",
   "execution_count": 1,
   "metadata": {
    "collapsed": true
   },
   "outputs": [],
   "source": [
    "import numpy as np\n",
    "import sys\n",
    "sys.path.append(\"../code/\")\n",
    "from structure import *\n",
    "from algo import *\n",
    "from basic import *\n",
    "import pandas as pd\n",
    "%matplotlib inline\n",
    "import matplotlib.pyplot as plt\n",
    "from autograd.numpy import linalg as LA\n",
    "import pickle"
   ]
  },
  {
   "cell_type": "code",
   "execution_count": 2,
   "metadata": {
    "collapsed": true
   },
   "outputs": [],
   "source": [
    "tensor = get_tensor(2015, 'missing')"
   ]
  },
  {
   "cell_type": "code",
   "execution_count": null,
   "metadata": {
    "collapsed": true
   },
   "outputs": [],
   "source": [
    "app=None\n",
    "season=None\n",
    "latent_dimension=3\n",
    "alpha1=0.1\n",
    "alpha2=0.1\n",
    "alpha3=0.1\n",
    "lambda1=1000\n",
    "lambda2=1000\n",
    "lambda3=1\n",
    "init='random'\n",
    "init_ob=0\n",
    "uncertainty='one'\n",
    "k=5\n",
    "normalization='none'"
   ]
  },
  {
   "cell_type": "code",
   "execution_count": null,
   "metadata": {
    "collapsed": true
   },
   "outputs": [],
   "source": [
    "params = {'method': ['all'],\n",
    "          'init': ['random'],\n",
    "          'uncertainty': ['one'],\n",
    "          'normalization': ['none'],\n",
    "          'lambda1': [1.0, 10.0, 100, 1000], \n",
    "          'lambda2': [1.0, 10.0, 100, 1000], \n",
    "          'lambda3': [1.0, 10.0, 100, 1000],\n",
    "          'init_ob': [0], \n",
    "          'latent_dimension': [3],\n",
    "          'k': [5]}"
   ]
  },
  {
   "cell_type": "code",
   "execution_count": null,
   "metadata": {
    "collapsed": true
   },
   "outputs": [],
   "source": [
    "# see if the lambda will affect the results\n",
    "# only for first month\n",
    "for fold_num in range(10):\n",
    "    train, test = get_train_test(tensor, fold_num=fold_num)\n",
    "    for random_seed in range(5):\n",
    "        "
   ]
  }
 ],
 "metadata": {
  "kernelspec": {
   "display_name": "Python 3",
   "language": "python",
   "name": "python3"
  },
  "language_info": {
   "codemirror_mode": {
    "name": "ipython",
    "version": 3
   },
   "file_extension": ".py",
   "mimetype": "text/x-python",
   "name": "python",
   "nbconvert_exporter": "python",
   "pygments_lexer": "ipython3",
   "version": "3.5.2"
  }
 },
 "nbformat": 4,
 "nbformat_minor": 2
}
