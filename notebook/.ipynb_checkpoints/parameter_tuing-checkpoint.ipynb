{
 "cells": [
  {
   "cell_type": "code",
   "execution_count": 6,
   "metadata": {},
   "outputs": [
    {
     "name": "stdout",
     "output_type": "stream",
     "text": [
      "The autoreload extension is already loaded. To reload it, use:\n",
      "  %reload_ext autoreload\n"
     ]
    }
   ],
   "source": [
    "import numpy as np\n",
    "import sys\n",
    "sys.path.append(\"../code/\")\n",
    "from structure import *\n",
    "from algo import *\n",
    "from basic import *\n",
    "from analysis import *\n",
    "import pandas as pd\n",
    "%matplotlib inline\n",
    "import matplotlib.pyplot as plt\n",
    "from autograd.numpy import linalg as LA\n",
    "import pickle\n",
    "import itertools\n",
    "from itertools import product\n",
    "import calendar\n",
    "from sklearn.metrics import mean_squared_error\n",
    "%load_ext autoreload\n",
    "%autoreload 2\n",
    "import warnings\n",
    "import seaborn as sns\n",
    "warnings.filterwarnings(\"ignore\")\n",
    "from sklearn.manifold import TSNE\n",
    "from sklearn.cluster import KMeans\n",
    "import numpy as np"
   ]
  },
  {
   "cell_type": "code",
   "execution_count": 7,
   "metadata": {
    "collapsed": true
   },
   "outputs": [],
   "source": [
    "year = 2015\n",
    "dataset = 'artificial'\n",
    "order = APPLIANCE_ORDER_OBSERVED"
   ]
  },
  {
   "cell_type": "code",
   "execution_count": 8,
   "metadata": {},
   "outputs": [
    {
     "name": "stdout",
     "output_type": "stream",
     "text": [
      "../data/result/active/2015/artificial/pred-5-4-1.0-1.0-1.0-1.0-1.0-1.0\n"
     ]
    },
    {
     "ename": "FileNotFoundError",
     "evalue": "[Errno 2] No such file or directory: '../data/result/active/2015/artificial/pred-5-4-1.0-1.0-1.0-1.0-1.0-1.0'",
     "output_type": "error",
     "traceback": [
      "\u001b[0;31m---------------------------------------------------------------------------\u001b[0m",
      "\u001b[0;31mFileNotFoundError\u001b[0m                         Traceback (most recent call last)",
      "\u001b[0;32m<ipython-input-8-a1c746b78945>\u001b[0m in \u001b[0;36m<module>\u001b[0;34m()\u001b[0m\n\u001b[1;32m     16\u001b[0m                                 \u001b[0mfull_path\u001b[0m \u001b[0;34m=\u001b[0m \u001b[0;34m\"{}/pred-{}\"\u001b[0m\u001b[0;34m.\u001b[0m\u001b[0mformat\u001b[0m\u001b[0;34m(\u001b[0m\u001b[0mpre_dir\u001b[0m\u001b[0;34m,\u001b[0m \u001b[0mparam_name\u001b[0m\u001b[0;34m)\u001b[0m\u001b[0;34m\u001b[0m\u001b[0m\n\u001b[1;32m     17\u001b[0m                                 \u001b[0mprint\u001b[0m\u001b[0;34m(\u001b[0m\u001b[0mfull_path\u001b[0m\u001b[0;34m)\u001b[0m\u001b[0;34m\u001b[0m\u001b[0m\n\u001b[0;32m---> 18\u001b[0;31m                                 \u001b[0mr\u001b[0m\u001b[0;34m[\u001b[0m\u001b[0mparam_name\u001b[0m\u001b[0;34m]\u001b[0m \u001b[0;34m=\u001b[0m \u001b[0mnp\u001b[0m\u001b[0;34m.\u001b[0m\u001b[0mload\u001b[0m\u001b[0;34m(\u001b[0m\u001b[0mfull_path\u001b[0m\u001b[0;34m)\u001b[0m\u001b[0;34m\u001b[0m\u001b[0m\n\u001b[0m",
      "\u001b[0;32m/Library/Frameworks/Python.framework/Versions/3.5/lib/python3.5/site-packages/numpy/lib/npyio.py\u001b[0m in \u001b[0;36mload\u001b[0;34m(file, mmap_mode, allow_pickle, fix_imports, encoding)\u001b[0m\n\u001b[1;32m    370\u001b[0m     \u001b[0mown_fid\u001b[0m \u001b[0;34m=\u001b[0m \u001b[0;32mFalse\u001b[0m\u001b[0;34m\u001b[0m\u001b[0m\n\u001b[1;32m    371\u001b[0m     \u001b[0;32mif\u001b[0m \u001b[0misinstance\u001b[0m\u001b[0;34m(\u001b[0m\u001b[0mfile\u001b[0m\u001b[0;34m,\u001b[0m \u001b[0mbasestring\u001b[0m\u001b[0;34m)\u001b[0m\u001b[0;34m:\u001b[0m\u001b[0;34m\u001b[0m\u001b[0m\n\u001b[0;32m--> 372\u001b[0;31m         \u001b[0mfid\u001b[0m \u001b[0;34m=\u001b[0m \u001b[0mopen\u001b[0m\u001b[0;34m(\u001b[0m\u001b[0mfile\u001b[0m\u001b[0;34m,\u001b[0m \u001b[0;34m\"rb\"\u001b[0m\u001b[0;34m)\u001b[0m\u001b[0;34m\u001b[0m\u001b[0m\n\u001b[0m\u001b[1;32m    373\u001b[0m         \u001b[0mown_fid\u001b[0m \u001b[0;34m=\u001b[0m \u001b[0;32mTrue\u001b[0m\u001b[0;34m\u001b[0m\u001b[0m\n\u001b[1;32m    374\u001b[0m     \u001b[0;32melif\u001b[0m \u001b[0mis_pathlib_path\u001b[0m\u001b[0;34m(\u001b[0m\u001b[0mfile\u001b[0m\u001b[0;34m)\u001b[0m\u001b[0;34m:\u001b[0m\u001b[0;34m\u001b[0m\u001b[0m\n",
      "\u001b[0;31mFileNotFoundError\u001b[0m: [Errno 2] No such file or directory: '../data/result/active/2015/artificial/pred-5-4-1.0-1.0-1.0-1.0-1.0-1.0'"
     ]
    }
   ],
   "source": [
    "r = {}\n",
    "for k in [5]:\n",
    "    for latent_dimension in [4]:\n",
    "        for a_gamma0 in [1.0, 0.1, 0.01]:\n",
    "            for b_gamma0 in [1.0, 0.1, 0.01]:\n",
    "                for a_beta0 in [1.0, 0.1, 0.01]:\n",
    "                    for b_beta0 in [1.0, 0.1, 0.01]:\n",
    "                        for a_alpha0 in [1.0, 0.1, 0.01]:\n",
    "                            for b_alpha0 in [1.0, 0.1, 0.01]:\n",
    "                                pre_dir = \"../data/result/active/{}/artificial\".format(year)\n",
    "\n",
    "                                param_name = \"{}-{}-{}-{}-{}-{}-{}-{}\".format(k, latent_dimension, a_gamma0,\n",
    "                                                                              b_gamma0, a_beta0, b_beta0, a_alpha0,\n",
    "                                                                              b_alpha0)\n",
    "\n",
    "                                full_path = \"{}/pred-{}\".format(pre_dir, param_name)\n",
    "                                print(full_path)\n",
    "                                r[param_name] = np.load(full_path)"
   ]
  },
  {
   "cell_type": "code",
   "execution_count": 83,
   "metadata": {
    "collapsed": true
   },
   "outputs": [],
   "source": [
    "mean = {}\n",
    "tensor, hid = get_tensor(year, dataset)\n",
    "for p in r.keys():\n",
    "    for random_seed in range(5):\n",
    "        new_p = p + \"-{}\".format(random_seed)\n",
    "        mean[new_p] = {}\n",
    "        for t in range(12):\n",
    "            mean[new_p][t] = {}\n",
    "            for idx, app in enumerate(APPLIANCE_ORDER_OBSERVED[1:]):\n",
    "                idx += 1\n",
    "                mean[new_p][t][idx] = np.sqrt(mean_squared_error(r[p][random_seed][t][:, idx, t], tensor[:, idx, t]))"
   ]
  },
  {
   "cell_type": "code",
   "execution_count": 84,
   "metadata": {},
   "outputs": [
    {
     "data": {
      "text/plain": [
       "'5-4-0.01-0.01-0.01-0.01-0.01-0.01-0'"
      ]
     },
     "execution_count": 84,
     "metadata": {},
     "output_type": "execute_result"
    }
   ],
   "source": [
    "p + \"-{}\".format(0)"
   ]
  },
  {
   "cell_type": "code",
   "execution_count": 85,
   "metadata": {
    "collapsed": true
   },
   "outputs": [],
   "source": [
    "mean_error = {}\n",
    "for p in mean.keys():\n",
    "    mean_error[p] = {}\n",
    "    for t in range(12):\n",
    "        mean_error[p][t] = pd.Series(mean[p][t]).mean()"
   ]
  },
  {
   "cell_type": "code",
   "execution_count": 86,
   "metadata": {
    "collapsed": true
   },
   "outputs": [],
   "source": [
    "max_value = {}\n",
    "for p in mean_error.keys():\n",
    "    max_value[p] = {}\n",
    "    for random_seed in range(5):\n",
    "        max_value[p] = pd.Series(mean_error[p]).max()"
   ]
  },
  {
   "cell_type": "code",
   "execution_count": 87,
   "metadata": {
    "collapsed": true
   },
   "outputs": [],
   "source": [
    "best_index = pd.Series(max_value).argmin()"
   ]
  },
  {
   "cell_type": "code",
   "execution_count": 88,
   "metadata": {},
   "outputs": [
    {
     "data": {
      "text/plain": [
       "133.88427520878744"
      ]
     },
     "execution_count": 88,
     "metadata": {},
     "output_type": "execute_result"
    }
   ],
   "source": [
    "pd.Series(max_value).min()"
   ]
  },
  {
   "cell_type": "code",
   "execution_count": 89,
   "metadata": {
    "collapsed": true
   },
   "outputs": [],
   "source": [
    "best_result = {}\n",
    "for idx, app in enumerate(APPLIANCE_ORDER_OBSERVED[1:]):\n",
    "    idx += 1\n",
    "    best_result[app] = {}\n",
    "    for t in range(12):\n",
    "        best_result[app][t] = mean[best_index][t][idx] "
   ]
  },
  {
   "cell_type": "code",
   "execution_count": 90,
   "metadata": {
    "scrolled": true
   },
   "outputs": [
    {
     "data": {
      "text/plain": [
       "'5-4-1.0-0.01-0.01-0.1-1.0-0.01-1'"
      ]
     },
     "execution_count": 90,
     "metadata": {},
     "output_type": "execute_result"
    }
   ],
   "source": [
    "best_index"
   ]
  },
  {
   "cell_type": "code",
   "execution_count": 91,
   "metadata": {
    "collapsed": true
   },
   "outputs": [],
   "source": [
    "np.save(\"../data/best-result-{}-vb-new.npy\".format(year), best_result)\n",
    "np.save(\"../data/best-param-{}-vb-new.npy\".format(year), best_index)"
   ]
  },
  {
   "cell_type": "markdown",
   "metadata": {},
   "source": [
    "### Parameter tuning for active method"
   ]
  },
  {
   "cell_type": "code",
   "execution_count": 12,
   "metadata": {},
   "outputs": [
    {
     "ename": "NameError",
     "evalue": "name 'uncertainty' is not defined",
     "output_type": "error",
     "traceback": [
      "\u001b[0;31m---------------------------------------------------------------------------\u001b[0m",
      "\u001b[0;31mFileNotFoundError\u001b[0m                         Traceback (most recent call last)",
      "\u001b[0;32m<ipython-input-12-f9f09278d2f2>\u001b[0m in \u001b[0;36m<module>\u001b[0;34m()\u001b[0m\n\u001b[1;32m     13\u001b[0m                             \u001b[0;32mtry\u001b[0m\u001b[0;34m:\u001b[0m\u001b[0;34m\u001b[0m\u001b[0m\n\u001b[0;32m---> 14\u001b[0;31m                                 \u001b[0mresult\u001b[0m\u001b[0;34m[\u001b[0m\u001b[0mc\u001b[0m\u001b[0;34m]\u001b[0m \u001b[0;34m=\u001b[0m \u001b[0mget_active_results\u001b[0m\u001b[0;34m(\u001b[0m\u001b[0myear\u001b[0m\u001b[0;34m=\u001b[0m\u001b[0myear\u001b[0m\u001b[0;34m,\u001b[0m \u001b[0mk\u001b[0m\u001b[0;34m=\u001b[0m\u001b[0mk\u001b[0m\u001b[0;34m,\u001b[0m \u001b[0muncertainty\u001b[0m\u001b[0;34m=\u001b[0m\u001b[0;34m'prev_future_weighted'\u001b[0m\u001b[0;34m,\u001b[0m \u001b[0mlatent_dimension\u001b[0m\u001b[0;34m=\u001b[0m\u001b[0mlatent_dimension\u001b[0m\u001b[0;34m,\u001b[0m \u001b[0mlambda1\u001b[0m\u001b[0;34m=\u001b[0m\u001b[0mlambda1\u001b[0m\u001b[0;34m,\u001b[0m \u001b[0mlambda2\u001b[0m\u001b[0;34m=\u001b[0m\u001b[0mlambda2\u001b[0m\u001b[0;34m,\u001b[0m \u001b[0mlambda3\u001b[0m\u001b[0;34m=\u001b[0m\u001b[0mlambda3\u001b[0m\u001b[0;34m,\u001b[0m \u001b[0mkernel\u001b[0m\u001b[0;34m=\u001b[0m\u001b[0mkernel\u001b[0m\u001b[0;34m,\u001b[0m \u001b[0msigma\u001b[0m\u001b[0;34m=\u001b[0m\u001b[0msigma\u001b[0m\u001b[0;34m)\u001b[0m\u001b[0;34m\u001b[0m\u001b[0m\n\u001b[0m\u001b[1;32m     15\u001b[0m     \u001b[0;31m#                             random[c] = get_active_results(year=year, k=k, method='random', latent_dimension=latent_dimension, lambda1=lambda1, lambda2=lambda2, lambda3=lambda3, kernel=kernel, sigma=sigma)\u001b[0m\u001b[0;34m\u001b[0m\u001b[0;34m\u001b[0m\u001b[0m\n",
      "\u001b[0;32m/Users/xox/git/active-sensing/code/analysis.py\u001b[0m in \u001b[0;36mget_active_results\u001b[0;34m(year, dataset, method, reg, season, alpha1, alpha2, alpha3, lambda1, lambda2, lambda3, gamma1, gamma2, normalization, uncertainty, kernel, sigma, init, k, latent_dimension)\u001b[0m\n\u001b[1;32m    138\u001b[0m     \u001b[0;31m# load prediction\u001b[0m\u001b[0;34m\u001b[0m\u001b[0;34m\u001b[0m\u001b[0m\n\u001b[0;32m--> 139\u001b[0;31m     \u001b[0mfile\u001b[0m \u001b[0;34m=\u001b[0m \u001b[0mopen\u001b[0m\u001b[0;34m(\u001b[0m\u001b[0mdirectory\u001b[0m \u001b[0;34m+\u001b[0m \u001b[0me_file\u001b[0m\u001b[0;34m,\u001b[0m \u001b[0;34m'rb'\u001b[0m\u001b[0;34m)\u001b[0m\u001b[0;34m\u001b[0m\u001b[0m\n\u001b[0m\u001b[1;32m    140\u001b[0m     \u001b[0mpred\u001b[0m \u001b[0;34m=\u001b[0m \u001b[0mpickle\u001b[0m\u001b[0;34m.\u001b[0m\u001b[0mload\u001b[0m\u001b[0;34m(\u001b[0m\u001b[0mfile\u001b[0m\u001b[0;34m)\u001b[0m\u001b[0;34m\u001b[0m\u001b[0m\n",
      "\u001b[0;31mFileNotFoundError\u001b[0m: [Errno 2] No such file or directory: '../data/result/reg/update_season/active/2015/artificial/pred-pre-none-prev_future_weighted-gaussian-1-0.1-0.1-0.0-5000-5000-5000-3-3'",
      "\nDuring handling of the above exception, another exception occurred:\n",
      "\u001b[0;31mNameError\u001b[0m                                 Traceback (most recent call last)",
      "\u001b[0;32m<ipython-input-12-f9f09278d2f2>\u001b[0m in \u001b[0;36m<module>\u001b[0;34m()\u001b[0m\n\u001b[1;32m     18\u001b[0m                                 \u001b[0mc\u001b[0m \u001b[0;34m+=\u001b[0m \u001b[0;36m1\u001b[0m\u001b[0;34m\u001b[0m\u001b[0m\n\u001b[1;32m     19\u001b[0m                             \u001b[0;32mexcept\u001b[0m\u001b[0;34m:\u001b[0m\u001b[0;34m\u001b[0m\u001b[0m\n\u001b[0;32m---> 20\u001b[0;31m                                 \u001b[0mprint\u001b[0m\u001b[0;34m(\u001b[0m\u001b[0;34m'python active_sensing_fix.py --latent_dimension {} --k {} --alpha1 {} --alpha2 {} &'\u001b[0m\u001b[0;34m.\u001b[0m\u001b[0mformat\u001b[0m\u001b[0;34m(\u001b[0m\u001b[0myear\u001b[0m\u001b[0;34m,\u001b[0m \u001b[0muncertainty\u001b[0m\u001b[0;34m,\u001b[0m \u001b[0mlatent_dimension\u001b[0m\u001b[0;34m,\u001b[0m \u001b[0mk\u001b[0m\u001b[0;34m,\u001b[0m \u001b[0malpha1\u001b[0m\u001b[0;34m,\u001b[0m \u001b[0malpha2\u001b[0m\u001b[0;34m)\u001b[0m\u001b[0;34m)\u001b[0m\u001b[0;34m\u001b[0m\u001b[0m\n\u001b[0m",
      "\u001b[0;31mNameError\u001b[0m: name 'uncertainty' is not defined"
     ]
    }
   ],
   "source": [
    "result = {}\n",
    "random = {}\n",
    "qbc = {}\n",
    "param = {}\n",
    "c = 0\n",
    "for k in [3, 5]:\n",
    "    for latent_dimension in [3, 4]:\n",
    "        for lambda1 in [5000, 8000, 10000]:\n",
    "            for lambda2 in [5000, 8000, 10000]:\n",
    "                for lambda3 in [5000, 8000, 10000]:\n",
    "                    for kernel in ['triangle']:\n",
    "                        for sigma in [1, 3, 6, 12]:\n",
    "                            try:\n",
    "                                result[c] = get_active_results(year=year, k=k, uncertainty='prev_future_weighted', latent_dimension=latent_dimension, lambda1=lambda1, lambda2=lambda2, lambda3=lambda3, kernel=kernel, sigma=sigma)\n",
    "    #                             random[c] = get_active_results(year=year, k=k, method='random', latent_dimension=latent_dimension, lambda1=lambda1, lambda2=lambda2, lambda3=lambda3, kernel=kernel, sigma=sigma)\n",
    "    #                             qbc[c] = get_active_results(year=year, k=k, method='qbc', latent_dimension=latent_dimension, lambda1=lambda1, lambda2=lambda2, lambda3=lambda3, kernel=kernel, sigma=sigma)\n",
    "                                param[c] = '{}-{}-{}-{}-{}-{}-{}'.format(k, latent_dimension, lambda1, lambda2, lambda3, kernel, sigma)\n",
    "                                c += 1\n",
    "                            except:\n",
    "                                print('python active_sensing_fix.py --latent_dimension {} --k {} --lambda1 {} --lambda2 {} --lambda3 {} &'.format(year, uncertainty, latent_dimension, k, alpha1, alpha2))\n",
    "                        \n",
    "                        "
   ]
  },
  {
   "cell_type": "code",
   "execution_count": 13,
   "metadata": {
    "collapsed": true
   },
   "outputs": [],
   "source": [
    "error = {}\n",
    "for idx, p in enumerate(param):\n",
    "    error[p] = {}\n",
    "    for idx, appliance in enumerate(order[1:]):\n",
    "        error[p][appliance] = {}\n",
    "        for t in range(12):\n",
    "            error[p][appliance][t] = {}\n",
    "            for random_seed in range(10):\n",
    "                error[p][appliance][t][random_seed] = {}"
   ]
  },
  {
   "cell_type": "code",
   "execution_count": 14,
   "metadata": {
    "collapsed": true
   },
   "outputs": [],
   "source": [
    "tensor, homeidx = get_tensor(year, dataset)\n",
    "mask_tensor = ~np.isnan(tensor)\n",
    "\n",
    "for c, p in enumerate(param):\n",
    "    for t in range(12):\n",
    "        for idx, appliance in enumerate(order[1:]):\n",
    "            idx += 1\n",
    "            for random_seed in range(10):\n",
    "                \n",
    "                predApp = result[c]['prediction'][random_seed][t][:, idx, :] # tensor\n",
    "\n",
    "                appMonthPred = predApp[:, t]\n",
    "                error[p][appliance][t][random_seed] = np.sqrt(mean_squared_error(appMonthPred[mask_tensor[:, idx, t]], \n",
    "                                                                                     tensor[:, idx, t][mask_tensor[:, idx, t]]))"
   ]
  },
  {
   "cell_type": "code",
   "execution_count": 17,
   "metadata": {
    "collapsed": true
   },
   "outputs": [],
   "source": [
    "tmp = {}\n",
    "mean_error = {}\n",
    "for c, p in enumerate(param):\n",
    "    tmp[p] = {}\n",
    "    for idx, appliance in enumerate(order[1:]):\n",
    "        tmp[p][appliance] = pd.DataFrame(error[p][appliance]).mean(axis=0).mean(axis=0)\n",
    "    mean_error[p] = pd.Series(tmp[p]).mean()"
   ]
  },
  {
   "cell_type": "code",
   "execution_count": 26,
   "metadata": {},
   "outputs": [
    {
     "name": "stdout",
     "output_type": "stream",
     "text": [
      "parameter:  5-4-10000-5000-5000-triangle-3\n"
     ]
    }
   ],
   "source": [
    "best_index = pd.Series(mean_error).argmin()\n",
    "print('parameter: ', param[best_index])"
   ]
  },
  {
   "cell_type": "code",
   "execution_count": 28,
   "metadata": {
    "collapsed": true
   },
   "outputs": [],
   "source": [
    "app_error = {}\n",
    "for idx, appliance in enumerate(order[1:]):\n",
    "    app_error[appliance] = pd.DataFrame(error[best_index][appliance]).mean(axis=0)"
   ]
  },
  {
   "cell_type": "code",
   "execution_count": 29,
   "metadata": {},
   "outputs": [
    {
     "data": {
      "text/plain": [
       "{'air1': 0     110.423843\n",
       " 1     117.552168\n",
       " 2      59.171396\n",
       " 3      82.908056\n",
       " 4      90.439205\n",
       " 5     108.757934\n",
       " 6     104.525833\n",
       " 7     120.667852\n",
       " 8      99.663321\n",
       " 9      96.103531\n",
       " 10     51.670098\n",
       " 11     89.598874\n",
       " dtype: float64, 'clotheswasher1': 0     12.266440\n",
       " 1      6.076368\n",
       " 2      9.258393\n",
       " 3     18.164524\n",
       " 4      5.614746\n",
       " 5      5.694213\n",
       " 6      5.118891\n",
       " 7      4.988003\n",
       " 8      4.574355\n",
       " 9      5.430758\n",
       " 10     5.230117\n",
       " 11     5.131205\n",
       " dtype: float64, 'dishwasher1': 0     14.974524\n",
       " 1     13.352819\n",
       " 2      9.431126\n",
       " 3     16.783020\n",
       " 4     10.040254\n",
       " 5     10.316078\n",
       " 6      9.978510\n",
       " 7     10.876689\n",
       " 8      9.625191\n",
       " 9     11.273989\n",
       " 10    13.101264\n",
       " 11    14.789290\n",
       " dtype: float64, 'furnace1': 0     133.901304\n",
       " 1     147.801833\n",
       " 2      74.053766\n",
       " 3      69.606563\n",
       " 4      78.737796\n",
       " 5      88.899985\n",
       " 6      93.259928\n",
       " 7      97.090526\n",
       " 8      78.890750\n",
       " 9      68.760499\n",
       " 10     75.196905\n",
       " 11     64.054277\n",
       " dtype: float64, 'microwave1': 0     13.239520\n",
       " 1     10.548861\n",
       " 2     10.798530\n",
       " 3     17.340169\n",
       " 4      8.031181\n",
       " 5      8.371785\n",
       " 6      7.454281\n",
       " 7      8.329601\n",
       " 8      8.266984\n",
       " 9      9.820206\n",
       " 10    10.495091\n",
       " 11    14.330927\n",
       " dtype: float64, 'refrigerator1': 0     44.044047\n",
       " 1     43.819705\n",
       " 2     42.208606\n",
       " 3     45.197063\n",
       " 4     45.673547\n",
       " 5     38.433485\n",
       " 6     36.629346\n",
       " 7     38.265566\n",
       " 8     42.354556\n",
       " 9     50.960772\n",
       " 10    48.978849\n",
       " 11    47.347266\n",
       " dtype: float64}"
      ]
     },
     "execution_count": 29,
     "metadata": {},
     "output_type": "execute_result"
    }
   ],
   "source": [
    "app_error"
   ]
  },
  {
   "cell_type": "code",
   "execution_count": null,
   "metadata": {
    "collapsed": true
   },
   "outputs": [],
   "source": [
    "random = {}\n",
    "param = {}\n",
    "c = 0\n",
    "for k in [3, 5]:\n",
    "    for latent_dimension in [3, 4]:\n",
    "        for lambda1 in [1000, 5000, 8000, 10000]:\n",
    "            for lambda2 in [1000, 5000, 8000, 10000]:\n",
    "                for lambda3 in [1000, 5000, 8000, 10000]:\n",
    "                    for kernel in ['gaussian', 'triangle', 'cosine', 'circle']:\n",
    "                        for sigma in [1, 3, 6, 12]:\n",
    "                            random[c] = get_active_results(year=year, k=k, method='random', latent_dimension=latent_dimension, lambda1=lambda1, lambda2=lambda2, lambda3=lambda3, kernel=kernel, sigma=sigma)\n",
    "                            param[c] = '{}-{}-{}-{}-{}-{}-{}'.format(k, latent_dimension, lambda1, lambda2, lambda3, kernel, sigma)"
   ]
  },
  {
   "cell_type": "code",
   "execution_count": null,
   "metadata": {
    "collapsed": true
   },
   "outputs": [],
   "source": [
    "qbc = {}\n",
    "param = {}\n",
    "c = 0\n",
    "for k in [3, 5]:\n",
    "    for latent_dimension in [3, 4]:\n",
    "        for lambda1 in [1000, 5000, 8000, 10000]:\n",
    "            for lambda2 in [1000, 5000, 8000, 10000]:\n",
    "                for lambda3 in [1000, 5000, 8000, 10000]:\n",
    "                    for kernel in ['gaussian', 'triangle', 'cosine', 'circle']:\n",
    "                        for sigma in [1, 3, 6, 12]:\n",
    "                            qbc[c] = get_active_results(year=year, k=k, method='random', latent_dimension=latent_dimension, lambda1=lambda1, lambda2=lambda2, lambda3=lambda3, kernel=kernel, sigma=sigma)\n",
    "                            param[c] = '{}-{}-{}-{}-{}-{}-{}'.format(k, latent_dimension, lambda1, lambda2, lambda3, kernel, sigma)"
   ]
  },
  {
   "cell_type": "code",
   "execution_count": null,
   "metadata": {
    "collapsed": true
   },
   "outputs": [],
   "source": [
    "error = {}\n",
    "for i in range(c):\n",
    "    error[i] = {}\n",
    "    error[i]['active'] = {}\n",
    "    error[i]['random'] = {}\n",
    "    error[i]['qbc'] = {}\n",
    "    for t in range(12):\n",
    "        for idx, appliance in enumerate(order[1:]):\n",
    "            for random_seed in range(10):\n",
    "                predApp = result[c]['prediction'][random_seed][t][:, idx, t]\n",
    "                error[i]['active'] = {}\n",
    "    "
   ]
  },
  {
   "cell_type": "code",
   "execution_count": null,
   "metadata": {
    "collapsed": true
   },
   "outputs": [],
   "source": [
    "for t in range(12):\n",
    "        # random method\n",
    "        for idx, appliance in enumerate(order[1:]):\n",
    "            idx += 1\n",
    "            for random_seed in range(10):\n",
    "                # for active method\n",
    "                predApp = result[param]['prediction'][random_seed][t][:, idx, :] # tensor\n",
    "                predApp[predApp<0] = 0\n",
    "                \n",
    "                # accumulated appliance error\n",
    "                appAccuPred = predApp[:, :(t+1)]\n",
    "#                 print(appliance, appAccuPred.min())\n",
    "                error['app']['accu'][param][appliance][t][random_seed] = np.sqrt(mean_squared_error(appAccuPred[mask_tensor[:, idx, :(t+1)]], \n",
    "                                                                                               tensor[:, idx, :(t+1)][mask_tensor[:, idx, :(t+1)]]))\n",
    "                # appliance error in current month\n",
    "                appMonthPred = predApp[:, t]\n",
    "                error['app']['month'][param][appliance][t][random_seed] = np.sqrt(mean_squared_error(appMonthPred[mask_tensor[:, idx, t]], \n",
    "                                                                                                tensor[:, idx, t][mask_tensor[:, idx, t]]))\n",
    "                \n",
    "                "
   ]
  }
 ],
 "metadata": {
  "kernelspec": {
   "display_name": "Python 3",
   "language": "python",
   "name": "python3"
  },
  "language_info": {
   "codemirror_mode": {
    "name": "ipython",
    "version": 3
   },
   "file_extension": ".py",
   "mimetype": "text/x-python",
   "name": "python",
   "nbconvert_exporter": "python",
   "pygments_lexer": "ipython3",
   "version": "3.5.2"
  }
 },
 "nbformat": 4,
 "nbformat_minor": 2
}
