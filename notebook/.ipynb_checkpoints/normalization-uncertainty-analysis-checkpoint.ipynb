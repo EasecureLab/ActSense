{
 "cells": [
  {
   "cell_type": "code",
   "execution_count": 1,
   "metadata": {
    "collapsed": true
   },
   "outputs": [],
   "source": [
    "import numpy as np\n",
    "import sys\n",
    "sys.path.append(\"../code/\")\n",
    "from structure import *\n",
    "from algo import *\n",
    "from basic import *\n",
    "import pandas as pd\n",
    "%matplotlib inline\n",
    "import matplotlib.pyplot as plt\n",
    "from autograd.numpy import linalg as LA\n",
    "import pickle"
   ]
  },
  {
   "cell_type": "code",
   "execution_count": 2,
   "metadata": {
    "collapsed": true
   },
   "outputs": [],
   "source": [
    "alpha1=0.1\n",
    "alpha2=0.1\n",
    "alpha3=0.1"
   ]
  },
  {
   "cell_type": "code",
   "execution_count": 3,
   "metadata": {
    "collapsed": true
   },
   "outputs": [],
   "source": [
    "error = {}\n",
    "m_err = {}\n",
    "a_err = {}\n",
    "sp = {}\n",
    "app = {}\n",
    "season = {}\n",
    "for method in ['active']:\n",
    "    error[method] = {}\n",
    "    m_err[method] = {}\n",
    "    a_err[method] = {}\n",
    "    sp[method] = {}\n",
    "    for init in ['pre']:\n",
    "        error[method][init] = {}\n",
    "        m_err[method][init] = {}\n",
    "        a_err[method][init] = {}\n",
    "        sp[method][init] = {}\n",
    "        for normalization in ['none']:\n",
    "            error[method][init][normalization] = {}\n",
    "            m_err[method][init][normalization] = {}\n",
    "            a_err[method][init][normalization] = {}\n",
    "            sp[method][init][normalization] = {}\n",
    "            for uncertainty in ['one', 'equal', 'weighted']:\n",
    "                error[method][init][normalization][uncertainty] = {}\n",
    "                m_err[method][init][normalization][uncertainty] = {}\n",
    "                a_err[method][init][normalization][uncertainty] = {}\n",
    "                sp[method][init][normalization][uncertainty] = {}\n",
    "                for k in [20]:\n",
    "                    error[method][init][normalization][uncertainty][k] = {}\n",
    "                    m_err[method][init][normalization][uncertainty][k] = {}\n",
    "                    a_err[method][init][normalization][uncertainty][k] = {}\n",
    "                    sp[method][init][normalization][uncertainty][k] = {}\n",
    "                    for random_seed in range(5):\n",
    "                        directory = \"../data/fix_season/\"\n",
    "                        e_file = \"error-{}-{}-{}-{}-{}-{}-{}-{}-{}\".format(method, init, normalization, uncertainty, alpha1, alpha2, alpha3, k, random_seed)\n",
    "                        m_file = \"m-err-{}-{}-{}-{}-{}-{}-{}-{}-{}\".format(method, init, normalization, uncertainty, alpha1, alpha2, alpha3, k, random_seed)\n",
    "                        a_file = \"a-err-{}-{}-{}-{}-{}-{}-{}-{}-{}\".format(method, init, normalization, uncertainty, alpha1, alpha2, alpha3, k, random_seed)\n",
    "                        sp_file = \"sp-err-{}-{}-{}-{}-{}-{}-{}-{}-{}\".format(method, init, normalization, uncertainty, alpha1, alpha2, alpha3, k, random_seed)\n",
    "                        app_file = \"app-matrix-{}-{}-{}-{}-{}-{}-{}-{}-{}\".format(method, init, normalization, uncertainty, alpha1, alpha2, alpha3, k, random_seed)\n",
    "                        season_file = \"season-matrix-{}-{}-{}-{}-{}-{}-{}-{}-{}\".format(method, init, normalization, uncertainty, alpha1, alpha2, alpha3, k, random_seed)\n",
    "                        \n",
    "                        app_name = directory + app_file\n",
    "                        season_name = directory + season_file\n",
    "                        e_name = directory + e_file\n",
    "                        m_name = directory + m_file\n",
    "                        a_name = directory + a_file\n",
    "                        sp_name = directory + sp_file\n",
    "    #                     print(e_name)\n",
    "                        try:\n",
    "                            e_file = open(e_name, 'rb')\n",
    "                            m_file = open(m_name, 'rb')\n",
    "                            a_file = open(a_name, 'rb')\n",
    "                            sp_file = open(sp_name, 'rb')\n",
    "                            app_file = open(app_name, 'rb')\n",
    "                            season_file = open(season_name, 'rb')\n",
    "                            \n",
    "\n",
    "                            error[method][init][normalization][uncertainty][k][random_seed] = pickle.load(e_file) \n",
    "                            m_err[method][init][normalization][uncertainty][k][random_seed] = pickle.load(m_file) \n",
    "                            a_err[method][init][normalization][uncertainty][k][random_seed] = pickle.load(a_file) \n",
    "                            sp[method][init][normalization][uncertainty][k][random_seed] = pickle.load(sp_file) \n",
    "\n",
    "\n",
    "                        except:\n",
    "                            continue"
   ]
  },
  {
   "cell_type": "code",
   "execution_count": 4,
   "metadata": {},
   "outputs": [
    {
     "data": {
      "text/plain": [
       "0     1044.005699\n",
       "1      874.774919\n",
       "2      697.935372\n",
       "3      505.114101\n",
       "4      425.736956\n",
       "5      382.428199\n",
       "6      360.438380\n",
       "7      349.205661\n",
       "8      315.496759\n",
       "9      268.791479\n",
       "10     199.193267\n",
       "11     193.424268\n",
       "dtype: float64"
      ]
     },
     "execution_count": 4,
     "metadata": {},
     "output_type": "execute_result"
    }
   ],
   "source": [
    "pd.DataFrame(error['active']['random']['zscore']['one'][5]).mean(axis=1)"
   ]
  },
  {
   "cell_type": "code",
   "execution_count": 18,
   "metadata": {
    "collapsed": true
   },
   "outputs": [],
   "source": [
    "method = 'active'"
   ]
  },
  {
   "cell_type": "code",
   "execution_count": 15,
   "metadata": {},
   "outputs": [
    {
     "data": {
      "text/html": [
       "<div>\n",
       "<style scoped>\n",
       "    .dataframe tbody tr th:only-of-type {\n",
       "        vertical-align: middle;\n",
       "    }\n",
       "\n",
       "    .dataframe tbody tr th {\n",
       "        vertical-align: top;\n",
       "    }\n",
       "\n",
       "    .dataframe thead th {\n",
       "        text-align: right;\n",
       "    }\n",
       "</style>\n",
       "<table border=\"1\" class=\"dataframe\">\n",
       "  <thead>\n",
       "    <tr style=\"text-align: right;\">\n",
       "      <th></th>\n",
       "      <th>0</th>\n",
       "      <th>1</th>\n",
       "      <th>2</th>\n",
       "      <th>3</th>\n",
       "      <th>4</th>\n",
       "    </tr>\n",
       "  </thead>\n",
       "  <tbody>\n",
       "    <tr>\n",
       "      <th>0</th>\n",
       "      <td>95.989460</td>\n",
       "      <td>92.126134</td>\n",
       "      <td>87.970253</td>\n",
       "      <td>92.416086</td>\n",
       "      <td>96.151552</td>\n",
       "    </tr>\n",
       "    <tr>\n",
       "      <th>1</th>\n",
       "      <td>97.270500</td>\n",
       "      <td>92.302612</td>\n",
       "      <td>90.694884</td>\n",
       "      <td>91.830807</td>\n",
       "      <td>95.581099</td>\n",
       "    </tr>\n",
       "    <tr>\n",
       "      <th>2</th>\n",
       "      <td>92.238390</td>\n",
       "      <td>91.283056</td>\n",
       "      <td>87.698648</td>\n",
       "      <td>89.513817</td>\n",
       "      <td>90.988748</td>\n",
       "    </tr>\n",
       "    <tr>\n",
       "      <th>3</th>\n",
       "      <td>106.682727</td>\n",
       "      <td>109.177074</td>\n",
       "      <td>102.514533</td>\n",
       "      <td>106.501330</td>\n",
       "      <td>107.832900</td>\n",
       "    </tr>\n",
       "    <tr>\n",
       "      <th>4</th>\n",
       "      <td>120.563432</td>\n",
       "      <td>118.492689</td>\n",
       "      <td>111.541814</td>\n",
       "      <td>121.858637</td>\n",
       "      <td>119.874536</td>\n",
       "    </tr>\n",
       "    <tr>\n",
       "      <th>5</th>\n",
       "      <td>153.744517</td>\n",
       "      <td>153.599768</td>\n",
       "      <td>143.166699</td>\n",
       "      <td>157.687569</td>\n",
       "      <td>154.236938</td>\n",
       "    </tr>\n",
       "    <tr>\n",
       "      <th>6</th>\n",
       "      <td>182.614209</td>\n",
       "      <td>183.991891</td>\n",
       "      <td>172.894679</td>\n",
       "      <td>189.517442</td>\n",
       "      <td>184.676293</td>\n",
       "    </tr>\n",
       "    <tr>\n",
       "      <th>7</th>\n",
       "      <td>198.398329</td>\n",
       "      <td>199.175589</td>\n",
       "      <td>190.457976</td>\n",
       "      <td>206.952143</td>\n",
       "      <td>201.091152</td>\n",
       "    </tr>\n",
       "    <tr>\n",
       "      <th>8</th>\n",
       "      <td>192.751937</td>\n",
       "      <td>193.006521</td>\n",
       "      <td>185.609840</td>\n",
       "      <td>200.649771</td>\n",
       "      <td>196.163862</td>\n",
       "    </tr>\n",
       "    <tr>\n",
       "      <th>9</th>\n",
       "      <td>182.204967</td>\n",
       "      <td>181.942062</td>\n",
       "      <td>175.755263</td>\n",
       "      <td>189.112477</td>\n",
       "      <td>185.667841</td>\n",
       "    </tr>\n",
       "    <tr>\n",
       "      <th>10</th>\n",
       "      <td>174.112264</td>\n",
       "      <td>173.601778</td>\n",
       "      <td>168.000832</td>\n",
       "      <td>180.317514</td>\n",
       "      <td>177.319020</td>\n",
       "    </tr>\n",
       "    <tr>\n",
       "      <th>11</th>\n",
       "      <td>168.535368</td>\n",
       "      <td>167.969039</td>\n",
       "      <td>162.318407</td>\n",
       "      <td>174.153249</td>\n",
       "      <td>171.646017</td>\n",
       "    </tr>\n",
       "  </tbody>\n",
       "</table>\n",
       "</div>"
      ],
      "text/plain": [
       "             0           1           2           3           4\n",
       "0    95.989460   92.126134   87.970253   92.416086   96.151552\n",
       "1    97.270500   92.302612   90.694884   91.830807   95.581099\n",
       "2    92.238390   91.283056   87.698648   89.513817   90.988748\n",
       "3   106.682727  109.177074  102.514533  106.501330  107.832900\n",
       "4   120.563432  118.492689  111.541814  121.858637  119.874536\n",
       "5   153.744517  153.599768  143.166699  157.687569  154.236938\n",
       "6   182.614209  183.991891  172.894679  189.517442  184.676293\n",
       "7   198.398329  199.175589  190.457976  206.952143  201.091152\n",
       "8   192.751937  193.006521  185.609840  200.649771  196.163862\n",
       "9   182.204967  181.942062  175.755263  189.112477  185.667841\n",
       "10  174.112264  173.601778  168.000832  180.317514  177.319020\n",
       "11  168.535368  167.969039  162.318407  174.153249  171.646017"
      ]
     },
     "execution_count": 15,
     "metadata": {},
     "output_type": "execute_result"
    }
   ],
   "source": [
    "pd.DataFrame(error['active']['pre']['zscore']['one'][5])"
   ]
  },
  {
   "cell_type": "code",
   "execution_count": 21,
   "metadata": {},
   "outputs": [
    {
     "data": {
      "image/png": "[encoded data removed]",
      "text/plain": [
       "<matplotlib.figure.Figure at 0x7f608d998898>"
      ]
     },
     "metadata": {},
     "output_type": "display_data"
    }
   ],
   "source": [
    "fig, axes = plt.subplots(ncols=4, nrows = 1, figsize=(20, 3))\n",
    "ax = axes.flatten()\n",
    "c = 0\n",
    "k = 20\n",
    "\n",
    "for init in ['pre', 'random']:\n",
    "    for uncertainty in ['one', 'equal', 'weighted']:\n",
    "        if init == 'random' and uncertainty != 'one':\n",
    "            continue\n",
    "        df = None\n",
    "        for normalization in ['none', 'zscore']:\n",
    "#             print(error[method][init][normalization][uncertainty][k])\n",
    "            df_t = pd.DataFrame(error[method][init][normalization][uncertainty][k]).mean(axis=1)\n",
    "#             print(init, uncertainty, normalization, df_t)\n",
    "            df = pd.concat([df, df_t], axis=1)\n",
    "#         print(df)\n",
    "        df.plot(kind='bar', ax=ax[c], title=\"{} {}\".format(init, uncertainty))\n",
    "        ax[c].legend(['none', 'zscore'])\n",
    "        c += 1"
   ]
  },
  {
   "cell_type": "code",
   "execution_count": 22,
   "metadata": {},
   "outputs": [
    {
     "data": {
      "image/png": "[encoded data removed]",
      "text/plain": [
       "<matplotlib.figure.Figure at 0x7f608d81b550>"
      ]
     },
     "metadata": {},
     "output_type": "display_data"
    }
   ],
   "source": [
    "init = 'pre'\n",
    "normalization = 'none'\n",
    "df = None\n",
    "for uncertainty in ['one', 'equal', 'weighted']:\n",
    "    df_t = pd.DataFrame(error[method][init][normalization][uncertainty][k]).mean(axis=1)\n",
    "    df = pd.concat([df, df_t], axis=1)\n",
    "ax = df.plot(kind='bar')\n",
    "ax.legend(['one', 'equal', 'weighted'])\n",
    "c += 1"
   ]
  },
  {
   "cell_type": "code",
   "execution_count": 60,
   "metadata": {},
   "outputs": [
    {
     "data": {
      "image/png": "[encoded data removed]",
      "text/plain": [
       "<matplotlib.figure.Figure at 0x7fc6c5088eb8>"
      ]
     },
     "metadata": {},
     "output_type": "display_data"
    }
   ],
   "source": [
    "fig, axes = plt.subplots(ncols=2, nrows = 2, figsize=(20, 6))\n",
    "ax = axes.flatten()\n",
    "c = 0\n",
    "normalization = 'none'\n",
    "\n",
    "for method in ['active', 'random']:\n",
    "    for init in ['pre', 'random']:\n",
    "        for uncertainty in ['one']:\n",
    "            if init == 'random' and uncertainty != 'one':\n",
    "                continue\n",
    "            df = None\n",
    "            for k in [5, 10, 15, 20]:\n",
    "                df_t = pd.DataFrame(error[method][init][normalization][uncertainty][k]).mean(axis=1)\n",
    "                df = pd.concat([df, df_t], axis=1)\n",
    "            df.plot(kind='bar', ax=ax[c], title=\"method = {} init = {}\".format(method, init))\n",
    "            ax[c].legend(['k=5', 'k=10', 'k=15', 'k=20'])\n",
    "            c += 1\n",
    "plt.subplots_adjust(hspace=0.5)"
   ]
  }
 ],
 "metadata": {
  "kernelspec": {
   "display_name": "Python 3",
   "language": "python",
   "name": "python3"
  },
  "language_info": {
   "codemirror_mode": {
    "name": "ipython",
    "version": 3
   },
   "file_extension": ".py",
   "mimetype": "text/x-python",
   "name": "python",
   "nbconvert_exporter": "python",
   "pygments_lexer": "ipython3",
   "version": "3.6.3"
  }
 },
 "nbformat": 4,
 "nbformat_minor": 2
}
