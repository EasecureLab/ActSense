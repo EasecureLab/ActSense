{
 "cells": [
  {
   "cell_type": "markdown",
   "metadata": {},
   "source": [
    "#### This notebook is to find how many readings we need to get a \"good\" estimation of energy breakdown"
   ]
  },
  {
   "cell_type": "code",
   "execution_count": 1,
   "metadata": {},
   "outputs": [],
   "source": [
    "import numpy as np\n",
    "import sys\n",
    "sys.path.append(\"../code/\")\n",
    "from structure import *\n",
    "from algo import *\n",
    "from algo_fix_season import *\n",
    "from basic import *\n",
    "import pandas as pd\n",
    "%matplotlib inline\n",
    "import matplotlib.pyplot as plt\n",
    "from autograd.numpy import linalg as LA\n",
    "import pickle\n",
    "from tabulate import tabulate\n",
    "%load_ext autoreload\n",
    "%autoreload 2"
   ]
  },
  {
   "cell_type": "code",
   "execution_count": 2,
   "metadata": {},
   "outputs": [],
   "source": [
    "def get_error(h, a, s, num_latent, tensor):\n",
    "    mask_tensor = ~np.isnan(tensor)\n",
    "    h = h.reshape(-1, num_latent)\n",
    "    a = a.reshape(-1, num_latent)\n",
    "    s = s.reshape(-1, num_latent)\n",
    "    hat = np.einsum('Ma, Na, Oa -> MNO', h, a, s)\n",
    "    errors = {}\n",
    "    \n",
    "    for i in range(a.shape[0]):\n",
    "        errors[APPLIANCE_ORDER_MISSING[i]] = np.sqrt(mean_squared_error(hat[:, i][mask_tensor[:, i, :s.shape[0]]], tensor[:, i][mask_tensor[:, i, :s.shape[0]]]))\n",
    "    return errors"
   ]
  },
  {
   "cell_type": "markdown",
   "metadata": {},
   "source": [
    "#### we use the data of year 2015, without any appliance readings"
   ]
  },
  {
   "cell_type": "code",
   "execution_count": 3,
   "metadata": {},
   "outputs": [],
   "source": [
    "tensor, homeids = get_tensor(2015, 'missing')"
   ]
  },
  {
   "cell_type": "markdown",
   "metadata": {},
   "source": [
    "#### First, we get the results of using all the observations"
   ]
  },
  {
   "cell_type": "code",
   "execution_count": 59,
   "metadata": {},
   "outputs": [],
   "source": [
    "home, app, season = factorization(tensor, num_latent=3, dis=False)\n",
    "all_err = get_error(home, app, season, 3, tensor)"
   ]
  },
  {
   "cell_type": "code",
   "execution_count": 60,
   "metadata": {},
   "outputs": [
    {
     "name": "stdout",
     "output_type": "stream",
     "text": [
      "  Appliance  Error\n",
      "-----------  --------------\n",
      "   181.454   use\n",
      "   108.241   air1\n",
      "    15.8383  clotheswasher1\n",
      "    75.082   drye1\n",
      "    13.0611  dishwasher1\n",
      "   112.823   furnace1\n",
      "    21.8908  kitchenapp1\n",
      "    10.7678  microwave1\n",
      "    53.6705  refrigerator1\n"
     ]
    }
   ],
   "source": [
    "headers = ['Appliance', 'Error']\n",
    "data = ([(v,k) for k,v in all_err.items()]) # flip the code and name and sort\n",
    "print(tabulate(data, headers=headers))"
   ]
  },
  {
   "cell_type": "markdown",
   "metadata": {},
   "source": [
    "#### with 10 random seeds, we randomly select k appliance readings to see the results"
   ]
  },
  {
   "cell_type": "code",
   "execution_count": 61,
   "metadata": {},
   "outputs": [],
   "source": [
    "errors = {}\n",
    "for k in range(0, 10, 2):\n",
    "    errors[k] = {}\n",
    "    for random_seed in range(10):\n",
    "        np.random.seed(random_seed)\n",
    "\n",
    "        tensor_copy = tensor.copy()\n",
    "        tensor_copy[:, 1:] = np.NaN\n",
    "        \n",
    "        num_home, num_app, num_season = tensor.shape\n",
    "        hid = np.random.choice(num_home, 1)\n",
    "        aid = np.random.choice(np.arange(1, num_app), 1)\n",
    "        sid = np.random.choice(num_season, 1)\n",
    "\n",
    "        tensor_copy[hid, aid, sid] = tensor[hid, aid, sid]\n",
    "        home, app, season = factorization(tensor_copy, num_latent=3)\n",
    "        errors[k][random_seed] = get_error(home, app, season, 3, tensor)"
   ]
  },
  {
   "cell_type": "code",
   "execution_count": 68,
   "metadata": {},
   "outputs": [],
   "source": [
    "hid = np.random.choice(num_home, 5)\n",
    "aid = np.random.choice(np.arange(1, num_app), 5)\n",
    "sid = np.random.choice(num_season, 5)"
   ]
  },
  {
   "cell_type": "code",
   "execution_count": 65,
   "metadata": {},
   "outputs": [],
   "source": [
    "mean_error = {}\n",
    "for k in range(0, 10, 2):\n",
    "    mean_error[k] = pd.DataFrame(errors[k]).mean(axis=1)"
   ]
  },
  {
   "cell_type": "code",
   "execution_count": 67,
   "metadata": {},
   "outputs": [
    {
     "data": {
      "text/html": [
       "<div>\n",
       "<style scoped>\n",
       "    .dataframe tbody tr th:only-of-type {\n",
       "        vertical-align: middle;\n",
       "    }\n",
       "\n",
       "    .dataframe tbody tr th {\n",
       "        vertical-align: top;\n",
       "    }\n",
       "\n",
       "    .dataframe thead th {\n",
       "        text-align: right;\n",
       "    }\n",
       "</style>\n",
       "<table border=\"1\" class=\"dataframe\">\n",
       "  <thead>\n",
       "    <tr style=\"text-align: right;\">\n",
       "      <th></th>\n",
       "      <th>0</th>\n",
       "      <th>2</th>\n",
       "      <th>4</th>\n",
       "      <th>6</th>\n",
       "      <th>8</th>\n",
       "    </tr>\n",
       "  </thead>\n",
       "  <tbody>\n",
       "    <tr>\n",
       "      <th>air1</th>\n",
       "      <td>571.697059</td>\n",
       "      <td>571.697059</td>\n",
       "      <td>571.697059</td>\n",
       "      <td>571.697059</td>\n",
       "      <td>571.697059</td>\n",
       "    </tr>\n",
       "    <tr>\n",
       "      <th>clotheswasher1</th>\n",
       "      <td>17.140572</td>\n",
       "      <td>17.140572</td>\n",
       "      <td>17.140572</td>\n",
       "      <td>17.140572</td>\n",
       "      <td>17.140572</td>\n",
       "    </tr>\n",
       "    <tr>\n",
       "      <th>dishwasher1</th>\n",
       "      <td>19.147143</td>\n",
       "      <td>19.147143</td>\n",
       "      <td>19.147143</td>\n",
       "      <td>19.147143</td>\n",
       "      <td>19.147143</td>\n",
       "    </tr>\n",
       "    <tr>\n",
       "      <th>drye1</th>\n",
       "      <td>96.919089</td>\n",
       "      <td>96.919089</td>\n",
       "      <td>96.919089</td>\n",
       "      <td>96.919089</td>\n",
       "      <td>96.919089</td>\n",
       "    </tr>\n",
       "    <tr>\n",
       "      <th>furnace1</th>\n",
       "      <td>199.781761</td>\n",
       "      <td>199.781761</td>\n",
       "      <td>199.781761</td>\n",
       "      <td>199.781761</td>\n",
       "      <td>199.781761</td>\n",
       "    </tr>\n",
       "    <tr>\n",
       "      <th>kitchenapp1</th>\n",
       "      <td>25.554622</td>\n",
       "      <td>25.554622</td>\n",
       "      <td>25.554622</td>\n",
       "      <td>25.554622</td>\n",
       "      <td>25.554622</td>\n",
       "    </tr>\n",
       "    <tr>\n",
       "      <th>microwave1</th>\n",
       "      <td>14.439758</td>\n",
       "      <td>14.439758</td>\n",
       "      <td>14.439758</td>\n",
       "      <td>14.439758</td>\n",
       "      <td>14.439758</td>\n",
       "    </tr>\n",
       "    <tr>\n",
       "      <th>refrigerator1</th>\n",
       "      <td>87.825367</td>\n",
       "      <td>87.825367</td>\n",
       "      <td>87.825367</td>\n",
       "      <td>87.825367</td>\n",
       "      <td>87.825367</td>\n",
       "    </tr>\n",
       "    <tr>\n",
       "      <th>use</th>\n",
       "      <td>153.135649</td>\n",
       "      <td>153.135649</td>\n",
       "      <td>153.135649</td>\n",
       "      <td>153.135649</td>\n",
       "      <td>153.135649</td>\n",
       "    </tr>\n",
       "  </tbody>\n",
       "</table>\n",
       "</div>"
      ],
      "text/plain": [
       "                         0           2           4           6           8\n",
       "air1            571.697059  571.697059  571.697059  571.697059  571.697059\n",
       "clotheswasher1   17.140572   17.140572   17.140572   17.140572   17.140572\n",
       "dishwasher1      19.147143   19.147143   19.147143   19.147143   19.147143\n",
       "drye1            96.919089   96.919089   96.919089   96.919089   96.919089\n",
       "furnace1        199.781761  199.781761  199.781761  199.781761  199.781761\n",
       "kitchenapp1      25.554622   25.554622   25.554622   25.554622   25.554622\n",
       "microwave1       14.439758   14.439758   14.439758   14.439758   14.439758\n",
       "refrigerator1    87.825367   87.825367   87.825367   87.825367   87.825367\n",
       "use             153.135649  153.135649  153.135649  153.135649  153.135649"
      ]
     },
     "execution_count": 67,
     "metadata": {},
     "output_type": "execute_result"
    }
   ],
   "source": [
    "pd.DataFrame(mean_error)"
   ]
  }
 ],
 "metadata": {
  "kernelspec": {
   "display_name": "Python 3",
   "language": "python",
   "name": "python3"
  },
  "language_info": {
   "codemirror_mode": {
    "name": "ipython",
    "version": 3
   },
   "file_extension": ".py",
   "mimetype": "text/x-python",
   "name": "python",
   "nbconvert_exporter": "python",
   "pygments_lexer": "ipython3",
   "version": "3.6.3"
  }
 },
 "nbformat": 4,
 "nbformat_minor": 2
}
