{
 "cells": [
  {
   "cell_type": "code",
   "execution_count": 2,
   "metadata": {
    "collapsed": true
   },
   "outputs": [],
   "source": [
    "import numpy as np"
   ]
  },
  {
   "cell_type": "code",
   "execution_count": 20,
   "metadata": {},
   "outputs": [
    {
     "name": "stdout",
     "output_type": "stream",
     "text": [
      "python3 active-sensing-fix.py 2015 active pre none next 0.1 0.1 0.1 5 3 &\n",
      "python3 active-sensing-fix.py 2015 active pre none next 0.1 0.1 1 5 3 &\n",
      "python3 active-sensing-fix.py 2015 active pre none next 0.1 0.1 10 5 3 &\n",
      "python3 active-sensing-fix.py 2015 active pre none next 0.1 1 0.1 5 3 &\n",
      "python3 active-sensing-fix.py 2015 active pre none next 0.1 1 1 5 3 &\n",
      "python3 active-sensing-fix.py 2015 active pre none next 0.1 1 10 5 3 &\n",
      "python3 active-sensing-fix.py 2015 active pre none next 0.1 10 0.1 5 3 &\n",
      "python3 active-sensing-fix.py 2015 active pre none next 0.1 10 1 5 3 &\n",
      "python3 active-sensing-fix.py 2015 active pre none next 0.1 10 10 5 3 &\n",
      "python3 active-sensing-fix.py 2015 active pre none next 1 0.1 0.1 5 3 &\n",
      "python3 active-sensing-fix.py 2015 active pre none next 1 0.1 1 5 3 &\n",
      "python3 active-sensing-fix.py 2015 active pre none next 1 0.1 10 5 3 &\n",
      "python3 active-sensing-fix.py 2015 active pre none next 1 1 0.1 5 3 &\n",
      "python3 active-sensing-fix.py 2015 active pre none next 1 1 1 5 3 &\n",
      "python3 active-sensing-fix.py 2015 active pre none next 1 1 10 5 3 &\n",
      "python3 active-sensing-fix.py 2015 active pre none next 1 10 0.1 5 3 &\n",
      "python3 active-sensing-fix.py 2015 active pre none next 1 10 1 5 3 &\n",
      "python3 active-sensing-fix.py 2015 active pre none next 1 10 10 5 3 &\n",
      "python3 active-sensing-fix.py 2015 active pre none next 10 0.1 0.1 5 3 &\n",
      "python3 active-sensing-fix.py 2015 active pre none next 10 0.1 1 5 3 &\n",
      "python3 active-sensing-fix.py 2015 active pre none next 10 0.1 10 5 3 &\n",
      "python3 active-sensing-fix.py 2015 active pre none next 10 1 0.1 5 3 &\n",
      "python3 active-sensing-fix.py 2015 active pre none next 10 1 1 5 3 &\n",
      "python3 active-sensing-fix.py 2015 active pre none next 10 1 10 5 3 &\n",
      "python3 active-sensing-fix.py 2015 active pre none next 10 10 0.1 5 3 &\n",
      "python3 active-sensing-fix.py 2015 active pre none next 10 10 1 5 3 &\n",
      "python3 active-sensing-fix.py 2015 active pre none next 10 10 10 5 3 &\n",
      "sleep 100\n",
      "python3 active-sensing-fix.py 2015 active pre zscore next 0.1 0.1 0.1 5 3 &\n",
      "python3 active-sensing-fix.py 2015 active pre zscore next 0.1 0.1 1 5 3 &\n",
      "python3 active-sensing-fix.py 2015 active pre zscore next 0.1 0.1 10 5 3 &\n",
      "python3 active-sensing-fix.py 2015 active pre zscore next 0.1 1 0.1 5 3 &\n",
      "python3 active-sensing-fix.py 2015 active pre zscore next 0.1 1 1 5 3 &\n",
      "python3 active-sensing-fix.py 2015 active pre zscore next 0.1 1 10 5 3 &\n",
      "python3 active-sensing-fix.py 2015 active pre zscore next 0.1 10 0.1 5 3 &\n",
      "python3 active-sensing-fix.py 2015 active pre zscore next 0.1 10 1 5 3 &\n",
      "python3 active-sensing-fix.py 2015 active pre zscore next 0.1 10 10 5 3 &\n",
      "python3 active-sensing-fix.py 2015 active pre zscore next 1 0.1 0.1 5 3 &\n",
      "python3 active-sensing-fix.py 2015 active pre zscore next 1 0.1 1 5 3 &\n",
      "python3 active-sensing-fix.py 2015 active pre zscore next 1 0.1 10 5 3 &\n",
      "python3 active-sensing-fix.py 2015 active pre zscore next 1 1 0.1 5 3 &\n",
      "python3 active-sensing-fix.py 2015 active pre zscore next 1 1 1 5 3 &\n",
      "python3 active-sensing-fix.py 2015 active pre zscore next 1 1 10 5 3 &\n",
      "python3 active-sensing-fix.py 2015 active pre zscore next 1 10 0.1 5 3 &\n",
      "python3 active-sensing-fix.py 2015 active pre zscore next 1 10 1 5 3 &\n",
      "python3 active-sensing-fix.py 2015 active pre zscore next 1 10 10 5 3 &\n",
      "python3 active-sensing-fix.py 2015 active pre zscore next 10 0.1 0.1 5 3 &\n",
      "python3 active-sensing-fix.py 2015 active pre zscore next 10 0.1 1 5 3 &\n",
      "python3 active-sensing-fix.py 2015 active pre zscore next 10 0.1 10 5 3 &\n",
      "python3 active-sensing-fix.py 2015 active pre zscore next 10 1 0.1 5 3 &\n",
      "python3 active-sensing-fix.py 2015 active pre zscore next 10 1 1 5 3 &\n",
      "python3 active-sensing-fix.py 2015 active pre zscore next 10 1 10 5 3 &\n",
      "python3 active-sensing-fix.py 2015 active pre zscore next 10 10 0.1 5 3 &\n",
      "python3 active-sensing-fix.py 2015 active pre zscore next 10 10 1 5 3 &\n",
      "python3 active-sensing-fix.py 2015 active pre zscore next 10 10 10 5 3 &\n",
      "sleep 100\n",
      "python3 active-sensing-fix.py 2015 active random none next 0.1 0.1 0.1 5 3 &\n",
      "python3 active-sensing-fix.py 2015 active random none next 0.1 0.1 1 5 3 &\n",
      "python3 active-sensing-fix.py 2015 active random none next 0.1 0.1 10 5 3 &\n",
      "python3 active-sensing-fix.py 2015 active random none next 0.1 1 0.1 5 3 &\n",
      "python3 active-sensing-fix.py 2015 active random none next 0.1 1 1 5 3 &\n",
      "python3 active-sensing-fix.py 2015 active random none next 0.1 1 10 5 3 &\n",
      "python3 active-sensing-fix.py 2015 active random none next 0.1 10 0.1 5 3 &\n",
      "python3 active-sensing-fix.py 2015 active random none next 0.1 10 1 5 3 &\n",
      "python3 active-sensing-fix.py 2015 active random none next 0.1 10 10 5 3 &\n",
      "python3 active-sensing-fix.py 2015 active random none next 1 0.1 0.1 5 3 &\n",
      "python3 active-sensing-fix.py 2015 active random none next 1 0.1 1 5 3 &\n",
      "python3 active-sensing-fix.py 2015 active random none next 1 0.1 10 5 3 &\n",
      "python3 active-sensing-fix.py 2015 active random none next 1 1 0.1 5 3 &\n",
      "python3 active-sensing-fix.py 2015 active random none next 1 1 1 5 3 &\n",
      "python3 active-sensing-fix.py 2015 active random none next 1 1 10 5 3 &\n",
      "python3 active-sensing-fix.py 2015 active random none next 1 10 0.1 5 3 &\n",
      "python3 active-sensing-fix.py 2015 active random none next 1 10 1 5 3 &\n",
      "python3 active-sensing-fix.py 2015 active random none next 1 10 10 5 3 &\n",
      "python3 active-sensing-fix.py 2015 active random none next 10 0.1 0.1 5 3 &\n",
      "python3 active-sensing-fix.py 2015 active random none next 10 0.1 1 5 3 &\n",
      "python3 active-sensing-fix.py 2015 active random none next 10 0.1 10 5 3 &\n",
      "python3 active-sensing-fix.py 2015 active random none next 10 1 0.1 5 3 &\n",
      "python3 active-sensing-fix.py 2015 active random none next 10 1 1 5 3 &\n",
      "python3 active-sensing-fix.py 2015 active random none next 10 1 10 5 3 &\n",
      "python3 active-sensing-fix.py 2015 active random none next 10 10 0.1 5 3 &\n",
      "python3 active-sensing-fix.py 2015 active random none next 10 10 1 5 3 &\n",
      "python3 active-sensing-fix.py 2015 active random none next 10 10 10 5 3 &\n",
      "sleep 100\n",
      "python3 active-sensing-fix.py 2015 active random zscore next 0.1 0.1 0.1 5 3 &\n",
      "python3 active-sensing-fix.py 2015 active random zscore next 0.1 0.1 1 5 3 &\n",
      "python3 active-sensing-fix.py 2015 active random zscore next 0.1 0.1 10 5 3 &\n",
      "python3 active-sensing-fix.py 2015 active random zscore next 0.1 1 0.1 5 3 &\n",
      "python3 active-sensing-fix.py 2015 active random zscore next 0.1 1 1 5 3 &\n",
      "python3 active-sensing-fix.py 2015 active random zscore next 0.1 1 10 5 3 &\n",
      "python3 active-sensing-fix.py 2015 active random zscore next 0.1 10 0.1 5 3 &\n",
      "python3 active-sensing-fix.py 2015 active random zscore next 0.1 10 1 5 3 &\n",
      "python3 active-sensing-fix.py 2015 active random zscore next 0.1 10 10 5 3 &\n",
      "python3 active-sensing-fix.py 2015 active random zscore next 1 0.1 0.1 5 3 &\n",
      "python3 active-sensing-fix.py 2015 active random zscore next 1 0.1 1 5 3 &\n",
      "python3 active-sensing-fix.py 2015 active random zscore next 1 0.1 10 5 3 &\n",
      "python3 active-sensing-fix.py 2015 active random zscore next 1 1 0.1 5 3 &\n",
      "python3 active-sensing-fix.py 2015 active random zscore next 1 1 1 5 3 &\n",
      "python3 active-sensing-fix.py 2015 active random zscore next 1 1 10 5 3 &\n",
      "python3 active-sensing-fix.py 2015 active random zscore next 1 10 0.1 5 3 &\n",
      "python3 active-sensing-fix.py 2015 active random zscore next 1 10 1 5 3 &\n",
      "python3 active-sensing-fix.py 2015 active random zscore next 1 10 10 5 3 &\n",
      "python3 active-sensing-fix.py 2015 active random zscore next 10 0.1 0.1 5 3 &\n",
      "python3 active-sensing-fix.py 2015 active random zscore next 10 0.1 1 5 3 &\n",
      "python3 active-sensing-fix.py 2015 active random zscore next 10 0.1 10 5 3 &\n",
      "python3 active-sensing-fix.py 2015 active random zscore next 10 1 0.1 5 3 &\n",
      "python3 active-sensing-fix.py 2015 active random zscore next 10 1 1 5 3 &\n",
      "python3 active-sensing-fix.py 2015 active random zscore next 10 1 10 5 3 &\n",
      "python3 active-sensing-fix.py 2015 active random zscore next 10 10 0.1 5 3 &\n",
      "python3 active-sensing-fix.py 2015 active random zscore next 10 10 1 5 3 &\n",
      "python3 active-sensing-fix.py 2015 active random zscore next 10 10 10 5 3 &\n",
      "sleep 100\n"
     ]
    }
   ],
   "source": [
    "c = 0\n",
    "for year in [2015]:\n",
    "    for method in ['active']:\n",
    "        for init in ['pre', 'random']:\n",
    "            for normalization in ['none', 'zscore']:\n",
    "                for uncertainty in ['next']:\n",
    "                    for alpha1 in [0.1, 1, 10]:\n",
    "                        for alpha2  in [0.1, 1, 10]:\n",
    "                            for alpha3 in [0.1, 1, 10]:\n",
    "                                for k in [5]:\n",
    "                                    for latent_dimension in [3]:\n",
    "                                        CMD = 'python3 active-sensing-fix.py {} {} {} {} {} {} {} {} {} {} &'.format(year, method, init, normalization, uncertainty, alpha1, alpha2, alpha3, k, latent_dimension)\n",
    "                                        print(CMD)\n",
    "                                        c += 1\n",
    "                                        if c%27 == 0:\n",
    "                                            print('sleep 100')"
   ]
  },
  {
   "cell_type": "code",
   "execution_count": 45,
   "metadata": {},
   "outputs": [
    {
     "ename": "KeyError",
     "evalue": "'equal'",
     "output_type": "error",
     "traceback": [
      "\u001b[0;31m---------------------------------------------------------------------------\u001b[0m",
      "\u001b[0;31mKeyError\u001b[0m                                  Traceback (most recent call last)",
      "\u001b[0;32m<ipython-input-45-a064351fbeb6>\u001b[0m in \u001b[0;36m<module>\u001b[0;34m()\u001b[0m\n\u001b[1;32m      6\u001b[0m     \u001b[0;31m# for minor appliances\u001b[0m\u001b[0;34m\u001b[0m\u001b[0;34m\u001b[0m\u001b[0m\n\u001b[1;32m      7\u001b[0m     \u001b[0;32mfor\u001b[0m \u001b[0muncertainty\u001b[0m \u001b[0;32min\u001b[0m \u001b[0;34m[\u001b[0m\u001b[0;34m'one'\u001b[0m\u001b[0;34m,\u001b[0m \u001b[0;34m'equal'\u001b[0m\u001b[0;34m,\u001b[0m \u001b[0;34m'weighted'\u001b[0m\u001b[0;34m]\u001b[0m\u001b[0;34m:\u001b[0m\u001b[0;34m\u001b[0m\u001b[0m\n\u001b[0;32m----> 8\u001b[0;31m         \u001b[0mmean_error\u001b[0m\u001b[0;34m[\u001b[0m\u001b[0;34m'active '\u001b[0m \u001b[0;34m+\u001b[0m \u001b[0muncertainty\u001b[0m\u001b[0;34m]\u001b[0m \u001b[0;34m=\u001b[0m \u001b[0mpd\u001b[0m\u001b[0;34m.\u001b[0m\u001b[0mDataFrame\u001b[0m\u001b[0;34m(\u001b[0m\u001b[0mresult\u001b[0m\u001b[0;34m[\u001b[0m\u001b[0;34m'active'\u001b[0m\u001b[0;34m]\u001b[0m\u001b[0;34m[\u001b[0m\u001b[0muncertainty\u001b[0m\u001b[0;34m]\u001b[0m\u001b[0;34m[\u001b[0m\u001b[0malpha1\u001b[0m\u001b[0;34m]\u001b[0m\u001b[0;34m[\u001b[0m\u001b[0malpha2\u001b[0m\u001b[0;34m]\u001b[0m\u001b[0;34m[\u001b[0m\u001b[0malpha3\u001b[0m\u001b[0;34m]\u001b[0m\u001b[0;34m[\u001b[0m\u001b[0mk\u001b[0m\u001b[0;34m]\u001b[0m\u001b[0;34m)\u001b[0m\u001b[0;34m.\u001b[0m\u001b[0mmean\u001b[0m\u001b[0;34m(\u001b[0m\u001b[0maxis\u001b[0m\u001b[0;34m=\u001b[0m\u001b[0;36m1\u001b[0m\u001b[0;34m)\u001b[0m\u001b[0;34m\u001b[0m\u001b[0m\n\u001b[0m\u001b[1;32m      9\u001b[0m     \u001b[0mmean_error\u001b[0m\u001b[0;34m[\u001b[0m\u001b[0;34m'random'\u001b[0m\u001b[0;34m]\u001b[0m \u001b[0;34m=\u001b[0m \u001b[0mpd\u001b[0m\u001b[0;34m.\u001b[0m\u001b[0mDataFrame\u001b[0m\u001b[0;34m(\u001b[0m\u001b[0mrandom\u001b[0m\u001b[0;34m[\u001b[0m\u001b[0mk\u001b[0m\u001b[0;34m]\u001b[0m\u001b[0;34m)\u001b[0m\u001b[0;34m.\u001b[0m\u001b[0mmean\u001b[0m\u001b[0;34m(\u001b[0m\u001b[0maxis\u001b[0m\u001b[0;34m=\u001b[0m\u001b[0;36m1\u001b[0m\u001b[0;34m)\u001b[0m\u001b[0;34m\u001b[0m\u001b[0m\n\u001b[1;32m     10\u001b[0m     \u001b[0max\u001b[0m \u001b[0;34m=\u001b[0m \u001b[0mpd\u001b[0m\u001b[0;34m.\u001b[0m\u001b[0mDataFrame\u001b[0m\u001b[0;34m(\u001b[0m\u001b[0mmean_error\u001b[0m\u001b[0;34m)\u001b[0m\u001b[0;34m.\u001b[0m\u001b[0mplot\u001b[0m\u001b[0;34m(\u001b[0m\u001b[0mkind\u001b[0m\u001b[0;34m=\u001b[0m\u001b[0;34m'bar'\u001b[0m\u001b[0;34m,\u001b[0m \u001b[0mtitle\u001b[0m\u001b[0;34m=\u001b[0m\u001b[0;34m\"{} {} {}\"\u001b[0m\u001b[0;34m.\u001b[0m\u001b[0mformat\u001b[0m\u001b[0;34m(\u001b[0m\u001b[0malpha1\u001b[0m\u001b[0;34m,\u001b[0m \u001b[0malpha2\u001b[0m\u001b[0;34m,\u001b[0m \u001b[0malpha3\u001b[0m\u001b[0;34m)\u001b[0m\u001b[0;34m)\u001b[0m\u001b[0;34m\u001b[0m\u001b[0m\n",
      "\u001b[0;31mKeyError\u001b[0m: 'equal'"
     ]
    }
   ],
   "source": [
    "# with alpha1 = alpha2 = alpha3 = 0.1\n",
    "# get the mean value of 5 random seed\n",
    "for alpha1, alpha2, alpha3  in list(itertools.combinations_with_replacement([0.1], 3)):\n",
    "    k = 5\n",
    "    mean_error = {}\n",
    "    # for minor appliances\n",
    "    for uncertainty in ['one', 'equal', 'weighted']:\n",
    "        mean_error['active ' + uncertainty] = pd.DataFrame(result['active'][uncertainty][alpha1][alpha2][alpha3][k]).mean(axis=1)\n",
    "    mean_error['random'] = pd.DataFrame(random[k]).mean(axis=1)\n",
    "    ax = pd.DataFrame(mean_error).plot(kind='bar', title=\"{} {} {}\".format(alpha1, alpha2, alpha3))\n",
    "    ax.legend(loc = 'center right')"
   ]
  },
  {
   "cell_type": "code",
   "execution_count": 5,
   "metadata": {},
   "outputs": [
    {
     "data": {
      "text/plain": [
       "17280"
      ]
     },
     "execution_count": 5,
     "metadata": {},
     "output_type": "execute_result"
    }
   ],
   "source": []
  }
 ],
 "metadata": {
  "kernelspec": {
   "display_name": "Python 3",
   "language": "python",
   "name": "python3"
  },
  "language_info": {
   "codemirror_mode": {
    "name": "ipython",
    "version": 3
   },
   "file_extension": ".py",
   "mimetype": "text/x-python",
   "name": "python",
   "nbconvert_exporter": "python",
   "pygments_lexer": "ipython3",
   "version": "3.6.3"
  }
 },
 "nbformat": 4,
 "nbformat_minor": 2
}
