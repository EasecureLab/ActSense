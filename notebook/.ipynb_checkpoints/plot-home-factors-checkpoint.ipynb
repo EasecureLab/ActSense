{
 "cells": [
  {
   "cell_type": "code",
   "execution_count": 19,
   "metadata": {},
   "outputs": [],
   "source": [
    "import numpy as np\n",
    "import pandas as pd\n",
    "# import plotly.plotly as py\n",
    "import plotly.graph_objs as go\n",
    "import plotly"
   ]
  },
  {
   "cell_type": "code",
   "execution_count": 51,
   "metadata": {
    "collapsed": true
   },
   "outputs": [],
   "source": [
    "train_home_factors = np.load(\"../data/fixed_season/active/2015/artificial/train-matrix-pre-none-one-0.1-0.1-0.1-5-3\")\n",
    "test_home_factors = np.load(\"../data/fixed_season/active/2015/artificial/test-matrix-pre-none-one-0.1-0.1-0.1-5-3\")\n",
    "sp = np.load(\"../data/fixed_season/active/2015/artificial/sp-pre-none-one-0.1-0.1-0.1-5-3\")"
   ]
  },
  {
   "cell_type": "code",
   "execution_count": 110,
   "metadata": {},
   "outputs": [],
   "source": [
    "homes = np.zeros((12, 5), dtype=np.int)\n",
    "for t in range(1, 12):\n",
    "    for i in range(5):\n",
    "        homes[t][i] = sp[random_seed][fold_num][t][i][0]"
   ]
  },
  {
   "cell_type": "code",
   "execution_count": 111,
   "metadata": {},
   "outputs": [],
   "source": [
    "random_seed = 0\n",
    "fold_num = 0\n"
   ]
  },
  {
   "cell_type": "code",
   "execution_count": 113,
   "metadata": {
    "collapsed": true
   },
   "outputs": [],
   "source": [
    "t = 4"
   ]
  },
  {
   "cell_type": "code",
   "execution_count": 116,
   "metadata": {},
   "outputs": [],
   "source": [
    "x = train_home_factors[random_seed][fold_num][t][:, 0]\n",
    "y = train_home_factors[random_seed][fold_num][t][:, 1]\n",
    "z = train_home_factors[random_seed][fold_num][t][:, 2]\n",
    "x2 = train_home_factors[random_seed][fold_num][t][homes[1:t].reshape(1, -1), 0]\n",
    "y2 = train_home_factors[random_seed][fold_num][t][homes[1:t].reshape(1, -1), 1]\n",
    "z2 = train_home_factors[random_seed][fold_num][t][homes[1:t].reshape(1, -1), 2]\n",
    "x3 = train_home_factors[random_seed][fold_num][t][homes[t], 0]\n",
    "y3 = train_home_factors[random_seed][fold_num][t][homes[t], 1]\n",
    "z3 = train_home_factors[random_seed][fold_num][t][homes[t], 2]"
   ]
  },
  {
   "cell_type": "code",
   "execution_count": 121,
   "metadata": {},
   "outputs": [
    {
     "data": {
      "text/plain": [
       "array([[0.3778554 , 0.3778554 , 0.3778554 , 0.3778554 , 0.3778554 ,\n",
       "        0.19764634, 0.30770233, 0.19584806, 0.3778554 , 0.18105272,\n",
       "        0.20762507, 0.26789442, 0.17494126, 0.18785944, 0.28934376]])"
      ]
     },
     "execution_count": 121,
     "metadata": {},
     "output_type": "execute_result"
    }
   ],
   "source": [
    "x2"
   ]
  },
  {
   "cell_type": "code",
   "execution_count": 123,
   "metadata": {},
   "outputs": [
    {
     "data": {
      "text/plain": [
       "'file:///Users/xox/git/active-sensing/notebook/temp-plot.html'"
      ]
     },
     "execution_count": 123,
     "metadata": {},
     "output_type": "execute_result"
    }
   ],
   "source": [
    "trace1 = go.Scatter3d(\n",
    "    x = x,\n",
    "    y = y,\n",
    "    z = z,\n",
    "    mode = 'markers',\n",
    "    marker = dict(size = 12, line = dict(color = 'rgba(217, 217, 217, 0.14)', width = 0.5), opacity = 0.8))\n",
    "\n",
    "trace2 = go.Scatter3d(\n",
    "    x = x2,\n",
    "    y = y2,\n",
    "    z = z2,\n",
    "    mode = 'markers',\n",
    "    marker = dict(size = 12, line = dict(color = 'rgba(217, 217, 217, 0.14)', width = 0.5), opacity = 0.8))\n",
    "\n",
    "trace3 = go.Scatter3d(\n",
    "    x = x3,\n",
    "    y = y3,\n",
    "    z = z3,\n",
    "    mode = 'markers',\n",
    "    marker = dict(size = 12, line = dict(color = 'rgba(2, 20, 200, 0.14)', width = 0.5), opacity = 0.8))\n",
    "\n",
    "layout = go.Layout(margin = dict(l = 0, r = 0, b = 0, t = 0))\n",
    "plotly.offline.plot({\"data\": [trace2],\n",
    "                     \"layout\": go.Layout(title='HelloWorld')})"
   ]
  }
 ],
 "metadata": {
  "kernelspec": {
   "display_name": "Python 3",
   "language": "python",
   "name": "python3"
  },
  "language_info": {
   "codemirror_mode": {
    "name": "ipython",
    "version": 3
   },
   "file_extension": ".py",
   "mimetype": "text/x-python",
   "name": "python",
   "nbconvert_exporter": "python",
   "pygments_lexer": "ipython3",
   "version": "3.5.2"
  }
 },
 "nbformat": 4,
 "nbformat_minor": 2
}
