{
 "cells": [
  {
   "cell_type": "code",
   "execution_count": 1,
   "metadata": {
    "collapsed": true
   },
   "outputs": [],
   "source": [
    "import numpy as np\n",
    "import sys\n",
    "sys.path.append(\"../code/\")\n",
    "from structure import *\n",
    "from algo import *\n",
    "from basic import *\n",
    "from analysis import *\n",
    "import pandas as pd\n",
    "%matplotlib inline\n",
    "import matplotlib.pyplot as plt\n",
    "from autograd.numpy import linalg as LA\n",
    "import pickle\n",
    "import itertools\n",
    "from itertools import product\n",
    "import calendar\n",
    "from sklearn.metrics import mean_squared_error\n",
    "%load_ext autoreload\n",
    "%autoreload 2\n",
    "import warnings\n",
    "import seaborn as sns\n",
    "warnings.filterwarnings(\"ignore\")\n",
    "from sklearn.manifold import TSNE\n",
    "from sklearn.cluster import KMeans\n",
    "import numpy as np"
   ]
  },
  {
   "cell_type": "code",
   "execution_count": 2,
   "metadata": {
    "collapsed": true
   },
   "outputs": [],
   "source": [
    "year = 2015\n",
    "dataset = 'artificial'\n",
    "order = APP_NAME_OBSERVED"
   ]
  },
  {
   "cell_type": "code",
   "execution_count": 3,
   "metadata": {
    "collapsed": true
   },
   "outputs": [],
   "source": [
    "# load the selected pairs with the best parameter\n",
    "sp = {}\n",
    "param = np.load(\"../data/best-param-{}-active.npy\".format(year)).item()\n",
    "k, latent_dimension, lambda1, lambda2, lambda3, kernel, delta = param.split(\"-\")\n",
    "filename = \"sp-pre-none-prev_future_weighted-{}-{}-0.1-0.1-0.0-{}-{}-{}-{}-{}\".format(kernel, delta, lambda1, lambda2,\n",
    "                                                                                    lambda3, k, latent_dimension)\n",
    "directory = \"../data/result/reg/update_season/active/{}/{}/\".format(year, dataset)\n",
    "full_path = directory + filename\n",
    "sp['active'] = np.load(full_path)\n",
    "\n",
    "\n",
    "param = np.load(\"../data/best-param-{}-random.npy\".format(year)).item()\n",
    "k, latent_dimension, lambda1, lambda2, lambda3 = param.split(\"-\")\n",
    "filename = \"sp-pre-{}-{}-{}-{}-{}\".format(lambda1, lambda2, lambda3, k, latent_dimension)\n",
    "directory = \"../data/result/reg/update_season/random/{}/{}/\".format(year, dataset)\n",
    "full_path = directory + filename\n",
    "sp['random'] = np.load(full_path)\n",
    "\n",
    "\n",
    "param = np.load(\"../data/best-param-{}-qbc.npy\".format(year)).item()\n",
    "k, latent_dimension, lambda1, lambda2, lambda3 = param.split(\"-\")\n",
    "filename = \"sp-pre-{}-{}-{}-{}-{}\".format(lambda1, lambda2, lambda3, k, latent_dimension)\n",
    "directory = \"../data/result/reg/update_season/qbc/{}/{}/\".format(year, dataset)\n",
    "full_path = directory + filename\n",
    "sp['qbc'] = np.load(full_path)\n",
    "\n",
    "\n",
    "param = np.load(\"../data/best-param-{}-vb-new.npy\".format(year)).item()\n",
    "k, latent_dimension, a_gamma, b_gamma, a_beta, b_beta, a_alpha, b_alpha, random_seed = param.split(\"-\")\n",
    "filename = \"sp-{}-{}-{}-{}-{}-{}-{}-{}\".format(k, latent_dimension, a_gamma, b_gamma, a_beta, b_beta, a_alpha, b_alpha)\n",
    "directory = \"../data/result/vb_var/{}/{}/\".format(year, dataset)\n",
    "full_path = directory + filename\n",
    "sp['var'] = np.load(full_path)"
   ]
  },
  {
   "cell_type": "code",
   "execution_count": 4,
   "metadata": {
    "collapsed": true
   },
   "outputs": [],
   "source": [
    "def calculate_selected_appliance(sp, k, num_random):\n",
    "    selected_app = np.zeros((12, len(order)))\n",
    "    for random_seed in range(num_random):\n",
    "        for fold_num in range(5):\n",
    "            for t in range(1, 12):\n",
    "                for i in range(k):\n",
    "#                     print(random_seed, fold_num, t, i)\n",
    "                    app_idx = sp[random_seed][fold_num][t][i][1]\n",
    "                    selected_app[t][app_idx] += 1\n",
    "    return selected_app"
   ]
  },
  {
   "cell_type": "code",
   "execution_count": 5,
   "metadata": {},
   "outputs": [
    {
     "data": {
      "image/png": "[encoded data removed]",
      "text/plain": [
       "<Figure size 648x288 with 4 Axes>"
      ]
     },
     "metadata": {
      "needs_background": "light"
     },
     "output_type": "display_data"
    }
   ],
   "source": [
    "colors = ['gold', 'yellow', 'lightgreen', 'skyblue', 'orangered', 'purple', 'pink']\n",
    "name_dict = {'qbc':'QBC', 'active':'ActSense', 'random':'Random', 'var':'VBV'}\n",
    "\n",
    "\n",
    "num_fig = len(sp.keys())\n",
    "month = ['Jan', 'Mar', 'May', 'Jul', 'Sep',  'Nov']\n",
    "fig, axes = plt.subplots(nrows=2, ncols=2, figsize=(9, 4))\n",
    "ax = axes.flatten()\n",
    "for n, key in enumerate(sp.keys()):\n",
    "    selected_pairs = calculate_selected_appliance(sp[key], 5, 5)/(5*5*5) + 0.0001\n",
    "\n",
    "    ind = [ 0,  1,  2,  3,  4,  5,  6,  7,  8,  9, 10]\n",
    "    true_ind = [ 0,  2,  4,   6,   8,  10]\n",
    "    width=0.4\n",
    "    p = {}\n",
    "    p[1] = ax[n].bar(ind, selected_pairs[1:, 1], width, color='orange')\n",
    "    for t in range(2, 7):\n",
    "        bottom = 0\n",
    "        for i in range(1, t):\n",
    "            bottom += selected_pairs[1:, i]\n",
    "        p[t] = ax[n].bar(ind, selected_pairs[1:, t], width, bottom=bottom, color=colors[t-1])\n",
    "    ax[n].set_xticks(true_ind)\n",
    "    # Set the tick labels\n",
    "    ax[n].set_xticklabels(month)\n",
    "    ax[n].set_title(name_dict[key])\n",
    "\n",
    "plt.subplots_adjust(hspace=0.5)\n",
    "plt.legend((p[1], p[2], p[3], p[4], p[5], p[6]), order[1:], fontsize=12, ncol=3, framealpha=1,\n",
    "           fancybox=True, bbox_to_anchor=(0.7, -0.8), loc='lower right')\n",
    "fig.savefig(\"../figure/selected_pairs.pdf\",format='pdf', bbox_inches='tight')"
   ]
  },
  {
   "cell_type": "code",
   "execution_count": 11,
   "metadata": {},
   "outputs": [
    {
     "data": {
      "image/png": "[encoded data removed]",
      "text/plain": [
       "<Figure size 1152x144 with 4 Axes>"
      ]
     },
     "metadata": {
      "needs_background": "light"
     },
     "output_type": "display_data"
    }
   ],
   "source": [
    "colors = ['gold', 'yellow', 'lightgreen', 'skyblue', 'orangered', 'purple', 'pink']\n",
    "name_dict = {'qbc':'QBC', 'active':'ActSense', 'random':'Random', 'var':'VBV'}\n",
    "\n",
    "\n",
    "num_fig = len(sp.keys())\n",
    "month = ['Jan', 'Mar', 'May', 'Jul', 'Sep',  'Nov']\n",
    "fig, axes = plt.subplots(nrows=1, ncols=4, figsize=(16, 2))\n",
    "ax = axes.flatten()\n",
    "for n, key in enumerate(sp.keys()):\n",
    "    selected_pairs = calculate_selected_appliance(sp[key], 5, 5)/(5*5*5) + 0.0001\n",
    "\n",
    "    ind = [ 0,  1,  2,  3,  4,  5,  6,  7,  8,  9, 10]\n",
    "    true_ind = [ 0,  2,  4,   6,   8,  10]\n",
    "    width=0.4\n",
    "    p = {}\n",
    "    p[1] = ax[n].bar(ind, selected_pairs[1:, 1], width, color='orange')\n",
    "    for t in range(2, 7):\n",
    "        bottom = 0\n",
    "        for i in range(1, t):\n",
    "            bottom += selected_pairs[1:, i]\n",
    "        p[t] = ax[n].bar(ind, selected_pairs[1:, t], width, bottom=bottom, color=colors[t-1])\n",
    "    ax[n].set_xticks(true_ind)\n",
    "    # Set the tick labels\n",
    "    ax[n].set_xticklabels(month)\n",
    "    ax[n].set_title(name_dict[key])\n",
    "\n",
    "plt.subplots_adjust(hspace=0.5)\n",
    "plt.legend((p[1], p[2], p[3], p[4], p[5], p[6]), order[1:], fontsize=12, ncol=6, framealpha=1,\n",
    "           fancybox=True, bbox_to_anchor=(0.5, -0.2))\n",
    "fig.savefig(\"../figure/selected_pairs_one_line.pdf\",format='pdf', bbox_inches='tight')"
   ]
  },
  {
   "cell_type": "code",
   "execution_count": null,
   "metadata": {
    "collapsed": true
   },
   "outputs": [],
   "source": []
  }
 ],
 "metadata": {
  "kernelspec": {
   "display_name": "Python 3",
   "language": "python",
   "name": "python3"
  },
  "language_info": {
   "codemirror_mode": {
    "name": "ipython",
    "version": 3
   },
   "file_extension": ".py",
   "mimetype": "text/x-python",
   "name": "python",
   "nbconvert_exporter": "python",
   "pygments_lexer": "ipython3",
   "version": "3.5.2"
  }
 },
 "nbformat": 4,
 "nbformat_minor": 2
}
