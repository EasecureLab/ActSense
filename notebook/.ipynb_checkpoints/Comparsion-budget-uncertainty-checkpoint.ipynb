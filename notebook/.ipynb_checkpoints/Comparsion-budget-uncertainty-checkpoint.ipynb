{
 "cells": [
  {
   "cell_type": "code",
   "execution_count": 50,
   "metadata": {},
   "outputs": [
    {
     "name": "stdout",
     "output_type": "stream",
     "text": [
      "The autoreload extension is already loaded. To reload it, use:\n",
      "  %reload_ext autoreload\n"
     ]
    }
   ],
   "source": [
    "import numpy as np\n",
    "import sys\n",
    "sys.path.append(\"../code/\")\n",
    "from structure import *\n",
    "from algo import *\n",
    "from basic import *\n",
    "from analysis import *\n",
    "import pandas as pd\n",
    "%matplotlib inline\n",
    "import matplotlib.pyplot as plt\n",
    "from autograd.numpy import linalg as LA\n",
    "import pickle\n",
    "import itertools\n",
    "from itertools import product\n",
    "import calendar\n",
    "from sklearn.metrics import mean_squared_error\n",
    "%load_ext autoreload\n",
    "%autoreload 2\n",
    "import warnings\n",
    "import seaborn as sns\n",
    "warnings.filterwarnings(\"ignore\")\n",
    "from sklearn.manifold import TSNE\n",
    "from sklearn.cluster import KMeans\n",
    "import numpy as np\n",
    "\n"
   ]
  },
  {
   "cell_type": "code",
   "execution_count": 51,
   "metadata": {},
   "outputs": [],
   "source": [
    "pred = {}\n",
    "for query_mode in ['fixed', 'dynamic']:\n",
    "    pred[query_mode]= {}\n",
    "    for uncertainty in ['next']:\n",
    "        directory = \"../data/result/budget/reg/update_season/active/2015/artificial/{}/\".format(query_mode)\n",
    "        param_name = \"pre-none-{}-gaussian-12-0.1-0.1-0.0-10000-10000-10000-60-4\".format(uncertainty)\n",
    "        pr_file = \"pred-{}\".format(param_name)\n",
    "        file = open(directory + pr_file, 'rb')\n",
    "        pred[query_mode][uncertainty] = pickle.load(file)\n",
    "        file.close()"
   ]
  },
  {
   "cell_type": "code",
   "execution_count": 52,
   "metadata": {},
   "outputs": [],
   "source": [
    "tensor, homeidx = get_tensor(2015, 'artificial')\n",
    "mask_tensor = ~np.isnan(tensor)"
   ]
  },
  {
   "cell_type": "code",
   "execution_count": 53,
   "metadata": {},
   "outputs": [],
   "source": [
    "error = {}\n",
    "for query_mode in ['fixed', 'dynamic']:\n",
    "    error[query_mode] = {}\n",
    "    for uncertainty in ['next']:\n",
    "        error[query_mode][uncertainty] = {}\n",
    "        for idx, appliance in enumerate(APPLIANCE_ORDER_OBSERVED[1:]):\n",
    "            idx += 1\n",
    "            error[query_mode][uncertainty][appliance] = {}\n",
    "            for t in range(12):\n",
    "                error[query_mode][uncertainty][appliance][t] = {}\n",
    "                for random_seed in range(10):\n",
    "                    # for active method\n",
    "                    predApp = pred[query_mode][uncertainty][random_seed][t][:, idx, t] # tensor\n",
    "                    predApp[predApp<0] = 0\n",
    "                    error[query_mode][uncertainty][appliance][t][random_seed] = np.sqrt(mean_squared_error(predApp[mask_tensor[:, idx, t]], \n",
    "                                                                                                    tensor[:, idx, t][mask_tensor[:, idx, t]]))\n",
    "\n",
    "                "
   ]
  },
  {
   "cell_type": "code",
   "execution_count": 54,
   "metadata": {},
   "outputs": [],
   "source": [
    "app_error = {}\n",
    "for query_mode in ['fixed', 'dynamic']:\n",
    "    app_error[query_mode] = {}\n",
    "    for uncertainty in ['next']:\n",
    "        app_error[query_mode][uncertainty] = {}\n",
    "        for idx, appliance in enumerate(APPLIANCE_ORDER_OBSERVED[1:]):\n",
    "            app_error[query_mode][uncertainty][appliance] = pd.DataFrame(error[query_mode][uncertainty][appliance]).mean(axis=0)\n",
    "            \n",
    "overall_error = {}\n",
    "for query_mode in ['fixed', 'dynamic']:\n",
    "    for uncertainty in ['next']:\n",
    "        overall_error[query_mode + \" \" + uncertainty] = pd.DataFrame(app_error[query_mode][uncertainty]).mean(axis=1)"
   ]
  },
  {
   "cell_type": "code",
   "execution_count": 48,
   "metadata": {},
   "outputs": [
    {
     "data": {
      "image/png": "[encoded data removed]",
      "text/plain": [
       "<Figure size 432x216 with 1 Axes>"
      ]
     },
     "metadata": {
      "needs_background": "light"
     },
     "output_type": "display_data"
    }
   ],
   "source": [
    "ax = pd.DataFrame(overall_error).plot(kind='bar', figsize=(6, 3))\n",
    "ax.legend(['Dynamic L', 'Fixed L'], loc='upper right')\n",
    "month = ['Jan', 'Mar', 'May', 'Jul', 'Sep',  'Nov']\n",
    "true_ind = [ 0,  2,  4,   6,   8,  10]\n",
    "\n",
    "ax.set_xlabel(\"Month\")\n",
    "ax.set_ylabel(\"Mean RMSE\")\n",
    "ax.set_xticks(true_ind)\n",
    "    # Set the tick labels\n",
    "ax.set_xticklabels(month)\n",
    "plt.savefig(\"../figure/budget.pdf\", bbox_inches=\"tight\")"
   ]
  },
  {
   "cell_type": "code",
   "execution_count": 17,
   "metadata": {},
   "outputs": [],
   "source": [
    "sp = {}\n",
    "for query_mode in ['fixed', 'dynamic']:\n",
    "    sp[query_mode]= {}\n",
    "    for uncertainty in ['next']:\n",
    "        directory = \"../data/result/budget/reg/update_season/active/2015/artificial/{}/\".format(query_mode)\n",
    "        param_name = \"pre-none-{}-gaussian-12-0.1-0.1-0.0-10000-10000-10000-60-4\".format(uncertainty)\n",
    "        pr_file = \"sp-{}\".format(param_name)\n",
    "        file = open(directory + pr_file, 'rb')\n",
    "        sp[query_mode][uncertainty] = pickle.load(file)\n",
    "        file.close()"
   ]
  },
  {
   "cell_type": "code",
   "execution_count": 37,
   "metadata": {},
   "outputs": [],
   "source": [
    "# num = np.zeros(2, 12)\n",
    "num = {}\n",
    "for method in ['dynamic', 'fixed']:\n",
    "    num[method] = np.zeros(12)\n",
    "    for random_seed in range(10):\n",
    "        r = sp[method]['next'][random_seed]\n",
    "        for fold_num in range(5):\n",
    "            for t in range(12):\n",
    "                num[method][t] += len(r[fold_num][t].keys())"
   ]
  },
  {
   "cell_type": "code",
   "execution_count": 49,
   "metadata": {},
   "outputs": [
    {
     "data": {
      "image/png": "[encoded data removed]",
      "text/plain": [
       "<Figure size 432x216 with 1 Axes>"
      ]
     },
     "metadata": {
      "needs_background": "light"
     },
     "output_type": "display_data"
    }
   ],
   "source": [
    "df = pd.DataFrame(num)/50\n",
    "df = df.rename(index={0:'Jan', 1:'Feb', 2:'Mar', 3:'Apr', 4:'May', 5:'Jun', 6:'Jul', 7:'Aug', 8:'Sep', 9:'Oct', 10:'Nov', 11:'Dec'})   \n",
    "ax = df.plot(marker='o', figsize=(6, 3))\n",
    "ind = [ 0,  1,  2,  3,  4,  5,  6,  7,  8,  9, 10, 11]\n",
    "month = ['Jan', 'Feb', 'Mar', 'Apr', 'May', 'Jun', 'Jul', 'Aug', 'Sep', 'Oct', 'Nov', 'Dec']\n",
    "ax.set_xticklabels(month)\n",
    "ax.set_xticks(ind)\n",
    "ax.set_xticklabels(month, rotation=90)\n",
    "ax.set_ylabel(\"Number of sensors\")\n",
    "ax.set_xlabel(\"Month\")\n",
    "ax.legend(['Dynamic K', 'Fixed K'], loc='upper right')\n",
    "plt.savefig(\"../figure/budget-query.pdf\", bbox_inches=\"tight\")"
   ]
  },
  {
   "cell_type": "code",
   "execution_count": 51,
   "metadata": {},
   "outputs": [
    {
     "data": {
      "image/png": "[encoded data removed]",
      "text/plain": [
       "<Figure size 1080x360 with 6 Axes>"
      ]
     },
     "metadata": {},
     "output_type": "display_data"
    }
   ],
   "source": [
    "fig, axes = plt.subplots(nrows=2, ncols=3, figsize=(15, 5))\n",
    "ax = axes.flatten()\n",
    "\n",
    "for idx, appliance in enumerate(APPLIANCE_ORDER_OBSERVED[1:]):\n",
    "    result = {}\n",
    "    for query_mode in ['fixed', 'dynamic']:\n",
    "        for uncertainty in ['next', 'prev_future_weighted']:\n",
    "            result[query_mode + \" \" + uncertainty] = app_error[query_mode][uncertainty][appliance]\n",
    "    \n",
    "    pd.DataFrame(result).plot(ax=ax[idx], kind='bar')\n",
    "    ax[idx].legend_.set_visible(False)\n",
    "#     ax[idx].legend(ncol=2)"
   ]
  }
 ],
 "metadata": {
  "kernelspec": {
   "display_name": "Python [default]",
   "language": "python",
   "name": "python3"
  },
  "language_info": {
   "codemirror_mode": {
    "name": "ipython",
    "version": 3
   },
   "file_extension": ".py",
   "mimetype": "text/x-python",
   "name": "python",
   "nbconvert_exporter": "python",
   "pygments_lexer": "ipython3",
   "version": "3.6.6"
  }
 },
 "nbformat": 4,
 "nbformat_minor": 2
}
