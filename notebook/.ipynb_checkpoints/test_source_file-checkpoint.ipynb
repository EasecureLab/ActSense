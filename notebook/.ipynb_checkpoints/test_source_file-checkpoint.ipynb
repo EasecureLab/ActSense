{
 "cells": [
  {
   "cell_type": "code",
   "execution_count": 1,
   "metadata": {},
   "outputs": [],
   "source": [
    "import numpy as np\n",
    "import sys\n",
    "sys.path.append(\"../code/\")\n",
    "from structure import *\n",
    "from algo import *\n",
    "from basic import *\n",
    "import pandas as pd\n",
    "%matplotlib inline\n",
    "import matplotlib.pyplot as plt\n",
    "from autograd.numpy import linalg as LA\n"
   ]
  },
  {
   "cell_type": "code",
   "execution_count": 2,
   "metadata": {},
   "outputs": [],
   "source": [
    "np.random.seed(0)\n",
    "tensor = get_tensor(2015, 'missing')\n",
    "AS = ActiveSensing(train_tensor=tensor[:250], test_tensor=tensor[250:], method='active', latent_dimension=3, \n",
    "                   alpha1=0.1, alpha2=0.1, alpha3=0.1, lambda_=1, init='random', k=10)"
   ]
  },
  {
   "cell_type": "code",
   "execution_count": 3,
   "metadata": {},
   "outputs": [
    {
     "name": "stdout",
     "output_type": "stream",
     "text": [
      "('time:', 0, '#Observed:', 280)\n",
      "('time:', 1, '#Observed:', 563)\n",
      "('time:', 2, '#Observed:', 852)\n",
      "('time:', 3, '#Observed:', 1147)\n",
      "('time:', 4, '#Observed:', 1448)\n",
      "('time:', 5, '#Observed:', 1756)\n",
      "('time:', 6, '#Observed:', 2069)\n",
      "('time:', 7, '#Observed:', 2387)\n",
      "('time:', 8, '#Observed:', 2712)\n",
      "('time:', 9, '#Observed:', 3045)\n",
      "('time:', 10, '#Observed:', 3387)\n",
      "('time:', 11, '#Observed:', 3737)\n"
     ]
    }
   ],
   "source": [
    "for t in range(12):\n",
    "    AS.select(t)\n",
    "    AS.update_ALS(t, num_iterations=200)\n",
    "    print(\"time:\", t, \"#Observed:\", AS.ob_list_length)"
   ]
  },
  {
   "cell_type": "code",
   "execution_count": 2,
   "metadata": {
    "collapsed": true
   },
   "outputs": [
    {
     "name": "stdout",
     "output_type": "stream",
     "text": [
      "0\n",
      "1\n",
      "2\n",
      "3\n",
      "4\n",
      "5\n",
      "6\n",
      "7\n",
      "8\n",
      "9\n",
      "10\n",
      "11\n",
      "12\n",
      "13\n",
      "14\n",
      "15\n",
      "16\n",
      "17\n",
      "18\n",
      "19\n",
      "20\n",
      "21\n",
      "22\n",
      "23\n",
      "24\n",
      "25\n",
      "26\n",
      "27\n",
      "28\n",
      "29\n",
      "30\n",
      "31\n",
      "32\n",
      "33\n",
      "34\n",
      "35\n",
      "36\n",
      "37\n",
      "38\n",
      "39\n",
      "40\n",
      "41\n",
      "42\n",
      "43\n",
      "44\n",
      "45\n",
      "46\n",
      "47\n",
      "48\n",
      "49\n"
     ]
    }
   ],
   "source": [
    "import pickle\n",
    "pre_tensor = get_tensor(2014, 'missing')\n",
    "\n",
    "for i in range(3, 8):\n",
    "    home, app, season = ALS(pre_tensor, num_latent = i)\n",
    "    home_file = open(\"../code/home_2014_{}\".format(i), \"w\")\n",
    "    pickle.dump(home, home_file)\n",
    "    home_file.close()\n",
    "    \n",
    "    app_file = open(\"../code/app_2014_{}\".format(i), \"w\")\n",
    "    pickle.dump(app, app_file)\n",
    "    app_file.close()\n",
    "    \n",
    "    season_file = open(\"../code/season_2014_{}\".format(i), \"w\")\n",
    "    pickle.dump(season, season_file)\n",
    "    season_file.close()"
   ]
  },
  {
   "cell_type": "code",
   "execution_count": 6,
   "metadata": {},
   "outputs": [
    {
     "data": {
      "text/plain": [
       "(3, 1)"
      ]
     },
     "execution_count": 6,
     "metadata": {},
     "output_type": "execute_result"
    }
   ],
   "source": [
    "home[0]['h'].shape"
   ]
  },
  {
   "cell_type": "code",
   "execution_count": 3,
   "metadata": {},
   "outputs": [
    {
     "ename": "AttributeError",
     "evalue": "'dict' object has no attribute 'shape'",
     "output_type": "error",
     "traceback": [
      "\u001b[0;31m---------------------------------------------------------------------------\u001b[0m",
      "\u001b[0;31mAttributeError\u001b[0m                            Traceback (most recent call last)",
      "\u001b[0;32m<ipython-input-3-6cdb7ecd67b9>\u001b[0m in \u001b[0;36m<module>\u001b[0;34m()\u001b[0m\n\u001b[1;32m      3\u001b[0m AS = ActiveSensing(train_tensor=tensor[:250], test_tensor=tensor[250:], pre_app=app, pre_season=None, \n\u001b[1;32m      4\u001b[0m                    \u001b[0mmethod\u001b[0m\u001b[0;34m=\u001b[0m\u001b[0;34m'active'\u001b[0m\u001b[0;34m,\u001b[0m \u001b[0mlatent_dimension\u001b[0m\u001b[0;34m=\u001b[0m\u001b[0;36m3\u001b[0m\u001b[0;34m,\u001b[0m\u001b[0;34m\u001b[0m\u001b[0m\n\u001b[0;32m----> 5\u001b[0;31m                    alpha1=0.1, alpha2=0.1, alpha3=0.1, lambda_=1, init='pre', k=10)\n\u001b[0m",
      "\u001b[0;32m/home/yj9xs/git/active-sensing/code/algo.pyc\u001b[0m in \u001b[0;36m__init__\u001b[0;34m(self, train_tensor, test_tensor, pre_app, pre_season, method, latent_dimension, alpha1, alpha2, alpha3, lambda_, init, init_ob, uncertainty, k, normalization, random_seed)\u001b[0m\n\u001b[1;32m     23\u001b[0m                 \u001b[0;32mprint\u001b[0m\u001b[0;34m(\u001b[0m\u001b[0;34m\"Need initialized appliance factor or season factor\"\u001b[0m\u001b[0;34m)\u001b[0m\u001b[0;34m\u001b[0m\u001b[0m\n\u001b[1;32m     24\u001b[0m                 \u001b[0msys\u001b[0m\u001b[0;34m.\u001b[0m\u001b[0mexit\u001b[0m\u001b[0;34m(\u001b[0m\u001b[0;36m0\u001b[0m\u001b[0;34m)\u001b[0m\u001b[0;34m\u001b[0m\u001b[0m\n\u001b[0;32m---> 25\u001b[0;31m             \u001b[0;32mif\u001b[0m \u001b[0mpre_app\u001b[0m \u001b[0;32mis\u001b[0m \u001b[0;32mnot\u001b[0m \u001b[0mNone\u001b[0m \u001b[0;32mand\u001b[0m \u001b[0mpre_app\u001b[0m\u001b[0;34m.\u001b[0m\u001b[0mshape\u001b[0m\u001b[0;34m[\u001b[0m\u001b[0;36m1\u001b[0m\u001b[0;34m]\u001b[0m \u001b[0;34m!=\u001b[0m \u001b[0mlatent_dimension\u001b[0m\u001b[0;34m:\u001b[0m\u001b[0;34m\u001b[0m\u001b[0m\n\u001b[0m\u001b[1;32m     26\u001b[0m                 \u001b[0;32mprint\u001b[0m\u001b[0;34m(\u001b[0m\u001b[0;34m\"Dimension of pre_app is not equal to latent_dimension\"\u001b[0m\u001b[0;34m)\u001b[0m\u001b[0;34m\u001b[0m\u001b[0m\n\u001b[1;32m     27\u001b[0m                 \u001b[0msys\u001b[0m\u001b[0;34m.\u001b[0m\u001b[0mexit\u001b[0m\u001b[0;34m(\u001b[0m\u001b[0;36m0\u001b[0m\u001b[0;34m)\u001b[0m\u001b[0;34m\u001b[0m\u001b[0m\n",
      "\u001b[0;31mAttributeError\u001b[0m: 'dict' object has no attribute 'shape'"
     ]
    }
   ],
   "source": [
    "np.random.seed(0)\n",
    "tensor = get_tensor(2015, 'missing')\n",
    "AS = ActiveSensing(train_tensor=tensor[:250], test_tensor=tensor[250:], pre_app=app, pre_season=season, \n",
    "                   method='active', latent_dimension=3, \n",
    "                   alpha1=0.1, alpha2=0.1, alpha3=0.1, lambda_=1, init='pre', k=10)"
   ]
  },
  {
   "cell_type": "code",
   "execution_count": null,
   "metadata": {},
   "outputs": [],
   "source": [
    "A"
   ]
  },
  {
   "cell_type": "code",
   "execution_count": 8,
   "metadata": {},
   "outputs": [
    {
     "data": {
      "text/plain": [
       "array([[ 0.5488135 ],\n",
       "       [ 0.71518937],\n",
       "       [ 0.60276338]])"
      ]
     },
     "execution_count": 8,
     "metadata": {},
     "output_type": "execute_result"
    }
   ],
   "source": [
    "AS.seasons[0].s"
   ]
  }
 ],
 "metadata": {
  "kernelspec": {
   "display_name": "Python 3",
   "language": "python",
   "name": "python3"
  },
  "language_info": {
   "codemirror_mode": {
    "name": "ipython",
    "version": 2
   },
   "file_extension": ".py",
   "mimetype": "text/x-python",
   "name": "python",
   "nbconvert_exporter": "python",
   "pygments_lexer": "ipython2",
   "version": "2.7.13"
  }
 },
 "nbformat": 4,
 "nbformat_minor": 2
}
