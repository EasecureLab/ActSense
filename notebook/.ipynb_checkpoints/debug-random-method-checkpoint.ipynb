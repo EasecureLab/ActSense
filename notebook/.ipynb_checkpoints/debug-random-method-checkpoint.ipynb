{
 "cells": [
  {
   "cell_type": "code",
   "execution_count": 5,
   "metadata": {},
   "outputs": [
    {
     "name": "stdout",
     "output_type": "stream",
     "text": [
      "The autoreload extension is already loaded. To reload it, use:\n",
      "  %reload_ext autoreload\n"
     ]
    }
   ],
   "source": [
    "import numpy as np\n",
    "import sys\n",
    "sys.path.append(\"../code\")\n",
    "from basic import *\n",
    "from algo import *\n",
    "import pandas as pd\n",
    "%matplotlib inline\n",
    "import matplotlib.pyplot as plt\n",
    "%load_ext autoreload\n",
    "%autoreload 2"
   ]
  },
  {
   "cell_type": "code",
   "execution_count": 2,
   "metadata": {},
   "outputs": [],
   "source": [
    "random_seed = 0\n",
    "latent_dimension = 3\n",
    "tensor, homeids = get_tensor(2015, 'filter')\n",
    "train, test, tr_homes, tt_homes = get_train_test(tensor, homeids, fold_num=1)\n",
    "inst_tensor, init_list = get_instrumented_data(2015, 'filter', tr_homes, 10, random_seed=random_seed)"
   ]
  },
  {
   "cell_type": "code",
   "execution_count": 3,
   "metadata": {},
   "outputs": [],
   "source": [
    "alpha1 = 0.1\n",
    "alpha2 = 0.1\n",
    "alpha3 = 0.1\n",
    "lambda_ = 10000\n",
    "init = 'random'\n",
    "k = 5\n",
    "normalization = 'none'\n",
    "method = 'random'"
   ]
  },
  {
   "cell_type": "code",
   "execution_count": 33,
   "metadata": {},
   "outputs": [],
   "source": [
    "AS_random = ActiveSensing(train_tensor=train, test_tensor=test, init_list=None, pre_app=None, pre_season=None, \n",
    "                        method=method, latent_dimension=latent_dimension, alpha1=alpha1, alpha2=alpha2, alpha3=alpha3, \n",
    "                        lambda_=lambda_, init=init, uncertainty='one', k=k, \n",
    "                        normalization=normalization, random_seed=random_seed)"
   ]
  },
  {
   "cell_type": "code",
   "execution_count": 34,
   "metadata": {},
   "outputs": [],
   "source": [
    "for t in range(12):\n",
    "    AS_random.select(t)\n",
    "    AS_random.update_ALS_2(t, 5)"
   ]
  },
  {
   "cell_type": "code",
   "execution_count": 35,
   "metadata": {},
   "outputs": [
    {
     "data": {
      "text/plain": [
       "{1: {0: [107, 7], 1: [176, 6], 2: [47, 2], 3: [28, 8], 4: [92, 2]},\n",
       " 2: {0: [124, 1], 1: [179, 6], 2: [112, 3], 3: [140, 3], 4: [79, 4]},\n",
       " 3: {0: [133, 7], 1: [214, 6], 2: [50, 5], 3: [144, 5], 4: [147, 1]},\n",
       " 4: {0: [12, 5], 1: [12, 5], 2: [177, 6], 3: [21, 4], 4: [190, 5]},\n",
       " 5: {0: [176, 2], 1: [128, 5], 2: [108, 5], 3: [156, 1], 4: [2, 5]},\n",
       " 6: {0: [36, 7], 1: [21, 7], 2: [15, 5], 3: [85, 3], 4: [51, 8]},\n",
       " 7: {0: [214, 5], 1: [137, 4], 2: [26, 7], 3: [169, 3], 4: [28, 7]},\n",
       " 8: {0: [156, 3], 1: [159, 1], 2: [148, 2], 3: [150, 3], 4: [29, 4]},\n",
       " 9: {0: [160, 6], 1: [175, 7], 2: [102, 4], 3: [5, 1], 4: [79, 8]},\n",
       " 10: {0: [54, 5], 1: [198, 4], 2: [115, 7], 3: [19, 5], 4: [93, 7]},\n",
       " 11: {0: [111, 5], 1: [99, 1], 2: [154, 7], 3: [197, 3], 4: [147, 3]}}"
      ]
     },
     "execution_count": 35,
     "metadata": {},
     "output_type": "execute_result"
    }
   ],
   "source": [
    "AS_random.selected_pair"
   ]
  },
  {
   "cell_type": "code",
   "execution_count": 36,
   "metadata": {},
   "outputs": [
    {
     "data": {
      "text/html": [
       "<div>\n",
       "<style scoped>\n",
       "    .dataframe tbody tr th:only-of-type {\n",
       "        vertical-align: middle;\n",
       "    }\n",
       "\n",
       "    .dataframe tbody tr th {\n",
       "        vertical-align: top;\n",
       "    }\n",
       "\n",
       "    .dataframe thead th {\n",
       "        text-align: right;\n",
       "    }\n",
       "</style>\n",
       "<table border=\"1\" class=\"dataframe\">\n",
       "  <thead>\n",
       "    <tr style=\"text-align: right;\">\n",
       "      <th></th>\n",
       "      <th>0</th>\n",
       "      <th>1</th>\n",
       "      <th>2</th>\n",
       "      <th>3</th>\n",
       "      <th>4</th>\n",
       "      <th>5</th>\n",
       "      <th>6</th>\n",
       "      <th>7</th>\n",
       "      <th>8</th>\n",
       "      <th>9</th>\n",
       "      <th>10</th>\n",
       "      <th>11</th>\n",
       "    </tr>\n",
       "  </thead>\n",
       "  <tbody>\n",
       "    <tr>\n",
       "      <th>0</th>\n",
       "      <td>0.004300</td>\n",
       "      <td>29.944345</td>\n",
       "      <td>83.893539</td>\n",
       "      <td>136.982903</td>\n",
       "      <td>167.790846</td>\n",
       "      <td>187.717364</td>\n",
       "      <td>187.015654</td>\n",
       "      <td>186.166117</td>\n",
       "      <td>177.182048</td>\n",
       "      <td>173.715648</td>\n",
       "      <td>168.274101</td>\n",
       "      <td>164.993905</td>\n",
       "    </tr>\n",
       "    <tr>\n",
       "      <th>1</th>\n",
       "      <td>1077.128636</td>\n",
       "      <td>1025.092043</td>\n",
       "      <td>114.049481</td>\n",
       "      <td>117.296397</td>\n",
       "      <td>146.651023</td>\n",
       "      <td>201.631075</td>\n",
       "      <td>241.396378</td>\n",
       "      <td>262.096254</td>\n",
       "      <td>259.506064</td>\n",
       "      <td>249.797090</td>\n",
       "      <td>239.690916</td>\n",
       "      <td>231.231256</td>\n",
       "    </tr>\n",
       "    <tr>\n",
       "      <th>2</th>\n",
       "      <td>924.215359</td>\n",
       "      <td>8.866239</td>\n",
       "      <td>7.211195</td>\n",
       "      <td>6.676524</td>\n",
       "      <td>6.361003</td>\n",
       "      <td>6.221565</td>\n",
       "      <td>6.193315</td>\n",
       "      <td>6.178096</td>\n",
       "      <td>6.180114</td>\n",
       "      <td>6.118609</td>\n",
       "      <td>6.196349</td>\n",
       "      <td>6.336410</td>\n",
       "    </tr>\n",
       "    <tr>\n",
       "      <th>3</th>\n",
       "      <td>1160.124403</td>\n",
       "      <td>1107.032435</td>\n",
       "      <td>1101.847256</td>\n",
       "      <td>1071.877838</td>\n",
       "      <td>1133.305789</td>\n",
       "      <td>1270.559720</td>\n",
       "      <td>1386.884769</td>\n",
       "      <td>57.594232</td>\n",
       "      <td>52.822361</td>\n",
       "      <td>51.572080</td>\n",
       "      <td>50.844495</td>\n",
       "      <td>48.862221</td>\n",
       "    </tr>\n",
       "    <tr>\n",
       "      <th>4</th>\n",
       "      <td>922.173765</td>\n",
       "      <td>881.828423</td>\n",
       "      <td>12.633940</td>\n",
       "      <td>15.313286</td>\n",
       "      <td>18.746098</td>\n",
       "      <td>20.114423</td>\n",
       "      <td>20.407282</td>\n",
       "      <td>20.398052</td>\n",
       "      <td>20.145169</td>\n",
       "      <td>19.582895</td>\n",
       "      <td>18.685809</td>\n",
       "      <td>17.787844</td>\n",
       "    </tr>\n",
       "    <tr>\n",
       "      <th>5</th>\n",
       "      <td>1075.749607</td>\n",
       "      <td>1026.186832</td>\n",
       "      <td>1027.431112</td>\n",
       "      <td>143.891348</td>\n",
       "      <td>133.516610</td>\n",
       "      <td>134.906796</td>\n",
       "      <td>138.689692</td>\n",
       "      <td>140.366841</td>\n",
       "      <td>135.705896</td>\n",
       "      <td>130.719531</td>\n",
       "      <td>126.009742</td>\n",
       "      <td>124.233615</td>\n",
       "    </tr>\n",
       "    <tr>\n",
       "      <th>6</th>\n",
       "      <td>884.504615</td>\n",
       "      <td>13.979961</td>\n",
       "      <td>12.172437</td>\n",
       "      <td>11.706187</td>\n",
       "      <td>11.277850</td>\n",
       "      <td>11.317241</td>\n",
       "      <td>11.162726</td>\n",
       "      <td>10.538357</td>\n",
       "      <td>10.095753</td>\n",
       "      <td>9.889215</td>\n",
       "      <td>9.758135</td>\n",
       "      <td>9.947380</td>\n",
       "    </tr>\n",
       "    <tr>\n",
       "      <th>7</th>\n",
       "      <td>1004.765471</td>\n",
       "      <td>10.999318</td>\n",
       "      <td>9.583896</td>\n",
       "      <td>8.676563</td>\n",
       "      <td>8.212752</td>\n",
       "      <td>7.978093</td>\n",
       "      <td>7.924727</td>\n",
       "      <td>7.886446</td>\n",
       "      <td>7.772737</td>\n",
       "      <td>7.617408</td>\n",
       "      <td>7.562800</td>\n",
       "      <td>7.603977</td>\n",
       "    </tr>\n",
       "    <tr>\n",
       "      <th>8</th>\n",
       "      <td>1154.670478</td>\n",
       "      <td>1101.516410</td>\n",
       "      <td>1096.969945</td>\n",
       "      <td>1081.004610</td>\n",
       "      <td>1150.384210</td>\n",
       "      <td>1289.816632</td>\n",
       "      <td>55.609521</td>\n",
       "      <td>54.763774</td>\n",
       "      <td>54.457113</td>\n",
       "      <td>46.853072</td>\n",
       "      <td>56.103203</td>\n",
       "      <td>66.487302</td>\n",
       "    </tr>\n",
       "  </tbody>\n",
       "</table>\n",
       "</div>"
      ],
      "text/plain": [
       "            0            1            2            3            4   \\\n",
       "0     0.004300    29.944345    83.893539   136.982903   167.790846   \n",
       "1  1077.128636  1025.092043   114.049481   117.296397   146.651023   \n",
       "2   924.215359     8.866239     7.211195     6.676524     6.361003   \n",
       "3  1160.124403  1107.032435  1101.847256  1071.877838  1133.305789   \n",
       "4   922.173765   881.828423    12.633940    15.313286    18.746098   \n",
       "5  1075.749607  1026.186832  1027.431112   143.891348   133.516610   \n",
       "6   884.504615    13.979961    12.172437    11.706187    11.277850   \n",
       "7  1004.765471    10.999318     9.583896     8.676563     8.212752   \n",
       "8  1154.670478  1101.516410  1096.969945  1081.004610  1150.384210   \n",
       "\n",
       "            5            6           7           8           9           10  \\\n",
       "0   187.717364   187.015654  186.166117  177.182048  173.715648  168.274101   \n",
       "1   201.631075   241.396378  262.096254  259.506064  249.797090  239.690916   \n",
       "2     6.221565     6.193315    6.178096    6.180114    6.118609    6.196349   \n",
       "3  1270.559720  1386.884769   57.594232   52.822361   51.572080   50.844495   \n",
       "4    20.114423    20.407282   20.398052   20.145169   19.582895   18.685809   \n",
       "5   134.906796   138.689692  140.366841  135.705896  130.719531  126.009742   \n",
       "6    11.317241    11.162726   10.538357   10.095753    9.889215    9.758135   \n",
       "7     7.978093     7.924727    7.886446    7.772737    7.617408    7.562800   \n",
       "8  1289.816632    55.609521   54.763774   54.457113   46.853072   56.103203   \n",
       "\n",
       "           11  \n",
       "0  164.993905  \n",
       "1  231.231256  \n",
       "2    6.336410  \n",
       "3   48.862221  \n",
       "4   17.787844  \n",
       "5  124.233615  \n",
       "6    9.947380  \n",
       "7    7.603977  \n",
       "8   66.487302  "
      ]
     },
     "execution_count": 36,
     "metadata": {},
     "output_type": "execute_result"
    }
   ],
   "source": [
    "pd.DataFrame(AS_random.test_errors)"
   ]
  },
  {
   "cell_type": "code",
   "execution_count": 37,
   "metadata": {},
   "outputs": [
    {
     "data": {
      "image/png": "[encoded data removed]",
      "text/plain": [
       "<matplotlib.figure.Figure at 0x7fbc57e8f518>"
      ]
     },
     "metadata": {},
     "output_type": "display_data"
    }
   ],
   "source": [
    "# results\n",
    "fig, axes = plt.subplots(nrows=3, ncols=3, figsize=(16, 9))\n",
    "ax = axes.flatten()\n",
    "for i, app in enumerate(APPLIANCE_ORDER_MISSING):\n",
    "    pd.DataFrame(AS_random.test_errors).T[i].plot(ax=ax[i], kind='bar', color='g', title=app)"
   ]
  }
 ],
 "metadata": {
  "kernelspec": {
   "display_name": "Python 3",
   "language": "python",
   "name": "python3"
  },
  "language_info": {
   "codemirror_mode": {
    "name": "ipython",
    "version": 3
   },
   "file_extension": ".py",
   "mimetype": "text/x-python",
   "name": "python",
   "nbconvert_exporter": "python",
   "pygments_lexer": "ipython3",
   "version": "3.6.3"
  }
 },
 "nbformat": 4,
 "nbformat_minor": 2
}
