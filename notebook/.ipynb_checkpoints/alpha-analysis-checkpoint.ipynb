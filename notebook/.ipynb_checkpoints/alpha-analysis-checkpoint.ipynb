{
 "cells": [
  {
   "cell_type": "code",
   "execution_count": 1,
   "metadata": {
    "collapsed": true
   },
   "outputs": [],
   "source": [
    "import numpy as np\n",
    "import sys\n",
    "sys.path.append(\"../code/\")\n",
    "from structure import *\n",
    "from algo import *\n",
    "from basic import *\n",
    "import pandas as pd\n",
    "%matplotlib inline\n",
    "import matplotlib.pyplot as plt\n",
    "from autograd.numpy import linalg as LA\n",
    "import pickle"
   ]
  },
  {
   "cell_type": "code",
   "execution_count": null,
   "metadata": {
    "collapsed": true
   },
   "outputs": [],
   "source": [
    "error = {}\n",
    "m_err = {}\n",
    "a_err = {}\n",
    "sp = {}\n",
    "for method in ['active']:\n",
    "    for init in ['pre', 'random']:\n",
    "        for normalization in ['none', 'zscore']:\n",
    "            for uncertainty in ['one', 'equal', 'weighted']:\n",
    "                for alpha1 in [0.01, 0.1, 1, 10]:\n",
    "                    for alpha2  in [0.01, 0.1, 1, 10]:\n",
    "                        for alpha3 in [0.01, 0.1, 1, 10]:\n",
    "                            for k in [5, 10, 15, 20]:\n",
    "                                for random_seed in range(5):\n"
   ]
  }
 ],
 "metadata": {
  "kernelspec": {
   "display_name": "Python 3",
   "language": "python",
   "name": "python3"
  },
  "language_info": {
   "codemirror_mode": {
    "name": "ipython",
    "version": 3
   },
   "file_extension": ".py",
   "mimetype": "text/x-python",
   "name": "python",
   "nbconvert_exporter": "python",
   "pygments_lexer": "ipython3",
   "version": "3.6.3"
  }
 },
 "nbformat": 4,
 "nbformat_minor": 2
}
