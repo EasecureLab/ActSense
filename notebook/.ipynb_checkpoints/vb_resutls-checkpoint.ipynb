{
 "cells": [
  {
   "cell_type": "code",
   "execution_count": 23,
   "metadata": {},
   "outputs": [],
   "source": [
    "import numpy as np\n",
    "import scipy.io as sio\n",
    "import sys\n",
    "sys.path.append(\"../code/\")\n",
    "from basic import *\n",
    "from sklearn.metrics import mean_squared_error\n",
    "import pandas as pd\n",
    "%matplotlib inline\n",
    "import matplotlib.pyplot as plt"
   ]
  },
  {
   "cell_type": "code",
   "execution_count": 2,
   "metadata": {},
   "outputs": [],
   "source": [
    "tensor, hids = get_tensor(2015, 'artificial')"
   ]
  },
  {
   "cell_type": "code",
   "execution_count": 41,
   "metadata": {},
   "outputs": [],
   "source": [
    "random_pred = sio.loadmat('../prediction_random.mat')['predictions']\n",
    "all_pred = sio.loadmat('../prediction_all.mat')['predictions']\n",
    "var_pred = sio.loadmat('../prediction_var.mat')['predictions']"
   ]
  },
  {
   "cell_type": "code",
   "execution_count": 38,
   "metadata": {},
   "outputs": [],
   "source": [
    "random_err = {}\n",
    "all_err = {}\n",
    "var_err = {}\n",
    "for t in range(12):\n",
    "    random_err[t] = {}\n",
    "    all_err[t] = {}\n",
    "    var_err[t] = {}\n",
    "    for app in range(1, 7):\n",
    "        random_err[t][app] = np.sqrt(mean_squared_error(random_pred[t, :, app, t], tensor[:, app, t]))\n",
    "        all_err[t][app] = np.sqrt(mean_squared_error(all_pred[t, :, app, :t], tensor[:, app, t]))        \n",
    "        var_err[t][app] = np.sqrt(mean_squared_error(var_pred[t, :, app, :t], tensor[:, app, t]))        "
   ]
  },
  {
   "cell_type": "code",
   "execution_count": 39,
   "metadata": {},
   "outputs": [],
   "source": [
    "mean = {}\n",
    "mean['random'] = pd.DataFrame(random_err).mean(axis=0)\n",
    "mean['all'] = pd.DataFrame(all_err).mean(axis=0)\n",
    "mean['variance'] = pd.DataFrame(var_err).mean(axis=0)"
   ]
  },
  {
   "cell_type": "code",
   "execution_count": 40,
   "metadata": {},
   "outputs": [
    {
     "data": {
      "text/plain": [
       "<matplotlib.axes._subplots.AxesSubplot at 0x7f2fd208bf98>"
      ]
     },
     "execution_count": 40,
     "metadata": {},
     "output_type": "execute_result"
    },
    {
     "data": {
      "image/png": "[encoded data removed]",
      "text/plain": [
       "<Figure size 432x288 with 1 Axes>"
      ]
     },
     "metadata": {
      "needs_background": "light"
     },
     "output_type": "display_data"
    }
   ],
   "source": [
    "pd.DataFrame(mean).plot(kind='bar', title='variational bayesian inference')"
   ]
  }
 ],
 "metadata": {
  "kernelspec": {
   "display_name": "Python [default]",
   "language": "python",
   "name": "python3"
  },
  "language_info": {
   "codemirror_mode": {
    "name": "ipython",
    "version": 3
   },
   "file_extension": ".py",
   "mimetype": "text/x-python",
   "name": "python",
   "nbconvert_exporter": "python",
   "pygments_lexer": "ipython3",
   "version": "3.6.6"
  }
 },
 "nbformat": 4,
 "nbformat_minor": 2
}
